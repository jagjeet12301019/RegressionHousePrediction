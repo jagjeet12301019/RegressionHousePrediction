{
 "cells": [
  {
   "cell_type": "code",
   "execution_count": 113,
   "id": "robust-armstrong",
   "metadata": {
    "execution": {
     "iopub.execute_input": "2021-12-08T07:25:47.183179Z",
     "iopub.status.busy": "2021-12-08T07:25:47.182390Z",
     "iopub.status.idle": "2021-12-08T07:25:48.141269Z",
     "shell.execute_reply": "2021-12-08T07:25:48.142132Z",
     "shell.execute_reply.started": "2021-12-08T07:03:08.385822Z"
    },
    "papermill": {
     "duration": 1.016164,
     "end_time": "2021-12-08T07:25:48.142423",
     "exception": false,
     "start_time": "2021-12-08T07:25:47.126259",
     "status": "completed"
    },
    "tags": []
   },
   "outputs": [],
   "source": [
    "import numpy as np\n",
    "import pandas as pd\n",
    "import matplotlib.pyplot as plt\n",
    "import seaborn as sns\n",
    "import sklearn\n",
    "\n",
    "import warnings\n",
    "warnings.filterwarnings(\"ignore\")\n",
    "import os\n",
    "for dirname, _, filenames in os.walk('/kaggle/input'):\n",
    "    for filename in filenames:\n",
    "        print(os.path.join(dirname, filename))"
   ]
  },
  {
   "cell_type": "code",
   "execution_count": 114,
   "id": "human-breeding",
   "metadata": {
    "execution": {
     "iopub.execute_input": "2021-12-08T07:25:48.229688Z",
     "iopub.status.busy": "2021-12-08T07:25:48.229022Z",
     "iopub.status.idle": "2021-12-08T07:25:51.216769Z",
     "shell.execute_reply": "2021-12-08T07:25:51.217366Z",
     "shell.execute_reply.started": "2021-12-08T07:03:08.404001Z"
    },
    "papermill": {
     "duration": 3.036233,
     "end_time": "2021-12-08T07:25:51.217640",
     "exception": false,
     "start_time": "2021-12-08T07:25:48.181407",
     "status": "completed"
    },
    "tags": []
   },
   "outputs": [],
   "source": [
    "INPUTFOLDER = 'C:/Users/Priyanka/Desktop/DataScienceNotebooks/Advanced Machine Learning TRI2/Assignment Kaggle'\n",
    "\n",
    "item_categories    = pd.read_csv(os.path.join(INPUTFOLDER, 'item_categories.csv'))\n",
    "items       = pd.read_csv(os.path.join(INPUTFOLDER, 'items.csv'))\n",
    "shops      = pd.read_csv(os.path.join(INPUTFOLDER, 'shops.csv'))\n",
    "\n",
    "train       = pd.read_csv(os.path.join(INPUTFOLDER, 'sales_train.csv'))\n",
    "test        = pd.read_csv(os.path.join(INPUTFOLDER, 'test.csv'))\n",
    "\n",
    "samples_df     = pd.read_csv(os.path.join(INPUTFOLDER, 'sample_submission.csv'))"
   ]
  },
  {
   "cell_type": "code",
   "execution_count": 115,
   "id": "double-aerospace",
   "metadata": {
    "execution": {
     "iopub.execute_input": "2021-12-08T07:25:51.329551Z",
     "iopub.status.busy": "2021-12-08T07:25:51.328192Z",
     "iopub.status.idle": "2021-12-08T07:25:51.341202Z",
     "shell.execute_reply": "2021-12-08T07:25:51.341801Z",
     "shell.execute_reply.started": "2021-12-08T07:03:10.062925Z"
    },
    "papermill": {
     "duration": 0.078428,
     "end_time": "2021-12-08T07:25:51.341986",
     "exception": false,
     "start_time": "2021-12-08T07:25:51.263558",
     "status": "completed"
    },
    "tags": []
   },
   "outputs": [
    {
     "data": {
      "text/html": [
       "<div>\n",
       "<style scoped>\n",
       "    .dataframe tbody tr th:only-of-type {\n",
       "        vertical-align: middle;\n",
       "    }\n",
       "\n",
       "    .dataframe tbody tr th {\n",
       "        vertical-align: top;\n",
       "    }\n",
       "\n",
       "    .dataframe thead th {\n",
       "        text-align: right;\n",
       "    }\n",
       "</style>\n",
       "<table border=\"1\" class=\"dataframe\">\n",
       "  <thead>\n",
       "    <tr style=\"text-align: right;\">\n",
       "      <th></th>\n",
       "      <th>date</th>\n",
       "      <th>date_block_num</th>\n",
       "      <th>shop_id</th>\n",
       "      <th>item_id</th>\n",
       "      <th>item_price</th>\n",
       "      <th>item_cnt_day</th>\n",
       "    </tr>\n",
       "  </thead>\n",
       "  <tbody>\n",
       "    <tr>\n",
       "      <th>0</th>\n",
       "      <td>02.01.2013</td>\n",
       "      <td>0</td>\n",
       "      <td>59</td>\n",
       "      <td>22154</td>\n",
       "      <td>999.00</td>\n",
       "      <td>1.0</td>\n",
       "    </tr>\n",
       "    <tr>\n",
       "      <th>1</th>\n",
       "      <td>03.01.2013</td>\n",
       "      <td>0</td>\n",
       "      <td>25</td>\n",
       "      <td>2552</td>\n",
       "      <td>899.00</td>\n",
       "      <td>1.0</td>\n",
       "    </tr>\n",
       "    <tr>\n",
       "      <th>2</th>\n",
       "      <td>05.01.2013</td>\n",
       "      <td>0</td>\n",
       "      <td>25</td>\n",
       "      <td>2552</td>\n",
       "      <td>899.00</td>\n",
       "      <td>-1.0</td>\n",
       "    </tr>\n",
       "    <tr>\n",
       "      <th>3</th>\n",
       "      <td>06.01.2013</td>\n",
       "      <td>0</td>\n",
       "      <td>25</td>\n",
       "      <td>2554</td>\n",
       "      <td>1709.05</td>\n",
       "      <td>1.0</td>\n",
       "    </tr>\n",
       "    <tr>\n",
       "      <th>4</th>\n",
       "      <td>15.01.2013</td>\n",
       "      <td>0</td>\n",
       "      <td>25</td>\n",
       "      <td>2555</td>\n",
       "      <td>1099.00</td>\n",
       "      <td>1.0</td>\n",
       "    </tr>\n",
       "  </tbody>\n",
       "</table>\n",
       "</div>"
      ],
      "text/plain": [
       "         date  date_block_num  shop_id  item_id  item_price  item_cnt_day\n",
       "0  02.01.2013               0       59    22154      999.00           1.0\n",
       "1  03.01.2013               0       25     2552      899.00           1.0\n",
       "2  05.01.2013               0       25     2552      899.00          -1.0\n",
       "3  06.01.2013               0       25     2554     1709.05           1.0\n",
       "4  15.01.2013               0       25     2555     1099.00           1.0"
      ]
     },
     "execution_count": 115,
     "metadata": {},
     "output_type": "execute_result"
    }
   ],
   "source": [
    "train.head()"
   ]
  },
  {
   "cell_type": "code",
   "execution_count": 116,
   "id": "approved-ensemble",
   "metadata": {
    "execution": {
     "iopub.execute_input": "2021-12-08T07:25:51.441690Z",
     "iopub.status.busy": "2021-12-08T07:25:51.440999Z",
     "iopub.status.idle": "2021-12-08T07:25:51.447246Z",
     "shell.execute_reply": "2021-12-08T07:25:51.446585Z",
     "shell.execute_reply.started": "2021-12-08T07:03:10.078559Z"
    },
    "papermill": {
     "duration": 0.059029,
     "end_time": "2021-12-08T07:25:51.447420",
     "exception": false,
     "start_time": "2021-12-08T07:25:51.388391",
     "status": "completed"
    },
    "tags": []
   },
   "outputs": [
    {
     "data": {
      "text/plain": [
       "(2935849, 6)"
      ]
     },
     "execution_count": 116,
     "metadata": {},
     "output_type": "execute_result"
    }
   ],
   "source": [
    "train.shape"
   ]
  },
  {
   "cell_type": "code",
   "execution_count": 117,
   "id": "waiting-restoration",
   "metadata": {
    "execution": {
     "iopub.execute_input": "2021-12-08T07:25:51.551499Z",
     "iopub.status.busy": "2021-12-08T07:25:51.550732Z",
     "iopub.status.idle": "2021-12-08T07:25:51.556705Z",
     "shell.execute_reply": "2021-12-08T07:25:51.555896Z",
     "shell.execute_reply.started": "2021-12-08T07:03:10.092172Z"
    },
    "papermill": {
     "duration": 0.064597,
     "end_time": "2021-12-08T07:25:51.556881",
     "exception": false,
     "start_time": "2021-12-08T07:25:51.492284",
     "status": "completed"
    },
    "tags": []
   },
   "outputs": [
    {
     "data": {
      "text/html": [
       "<div>\n",
       "<style scoped>\n",
       "    .dataframe tbody tr th:only-of-type {\n",
       "        vertical-align: middle;\n",
       "    }\n",
       "\n",
       "    .dataframe tbody tr th {\n",
       "        vertical-align: top;\n",
       "    }\n",
       "\n",
       "    .dataframe thead th {\n",
       "        text-align: right;\n",
       "    }\n",
       "</style>\n",
       "<table border=\"1\" class=\"dataframe\">\n",
       "  <thead>\n",
       "    <tr style=\"text-align: right;\">\n",
       "      <th></th>\n",
       "      <th>ID</th>\n",
       "      <th>shop_id</th>\n",
       "      <th>item_id</th>\n",
       "    </tr>\n",
       "  </thead>\n",
       "  <tbody>\n",
       "    <tr>\n",
       "      <th>0</th>\n",
       "      <td>0</td>\n",
       "      <td>5</td>\n",
       "      <td>5037</td>\n",
       "    </tr>\n",
       "    <tr>\n",
       "      <th>1</th>\n",
       "      <td>1</td>\n",
       "      <td>5</td>\n",
       "      <td>5320</td>\n",
       "    </tr>\n",
       "    <tr>\n",
       "      <th>2</th>\n",
       "      <td>2</td>\n",
       "      <td>5</td>\n",
       "      <td>5233</td>\n",
       "    </tr>\n",
       "    <tr>\n",
       "      <th>3</th>\n",
       "      <td>3</td>\n",
       "      <td>5</td>\n",
       "      <td>5232</td>\n",
       "    </tr>\n",
       "    <tr>\n",
       "      <th>4</th>\n",
       "      <td>4</td>\n",
       "      <td>5</td>\n",
       "      <td>5268</td>\n",
       "    </tr>\n",
       "  </tbody>\n",
       "</table>\n",
       "</div>"
      ],
      "text/plain": [
       "   ID  shop_id  item_id\n",
       "0   0        5     5037\n",
       "1   1        5     5320\n",
       "2   2        5     5233\n",
       "3   3        5     5232\n",
       "4   4        5     5268"
      ]
     },
     "execution_count": 117,
     "metadata": {},
     "output_type": "execute_result"
    }
   ],
   "source": [
    "Id = test['ID']\n",
    "test.head()"
   ]
  },
  {
   "cell_type": "code",
   "execution_count": 118,
   "id": "together-double",
   "metadata": {
    "execution": {
     "iopub.execute_input": "2021-12-08T07:25:51.655184Z",
     "iopub.status.busy": "2021-12-08T07:25:51.654393Z",
     "iopub.status.idle": "2021-12-08T07:25:51.661837Z",
     "shell.execute_reply": "2021-12-08T07:25:51.662307Z",
     "shell.execute_reply.started": "2021-12-08T07:03:10.110208Z"
    },
    "papermill": {
     "duration": 0.059314,
     "end_time": "2021-12-08T07:25:51.662571",
     "exception": false,
     "start_time": "2021-12-08T07:25:51.603257",
     "status": "completed"
    },
    "tags": []
   },
   "outputs": [
    {
     "data": {
      "text/plain": [
       "(214200, 3)"
      ]
     },
     "execution_count": 118,
     "metadata": {},
     "output_type": "execute_result"
    }
   ],
   "source": [
    "test.shape"
   ]
  },
  {
   "cell_type": "code",
   "execution_count": 119,
   "id": "israeli-deputy",
   "metadata": {
    "execution": {
     "iopub.execute_input": "2021-12-08T07:25:51.772443Z",
     "iopub.status.busy": "2021-12-08T07:25:51.771331Z",
     "iopub.status.idle": "2021-12-08T07:25:51.777902Z",
     "shell.execute_reply": "2021-12-08T07:25:51.778460Z",
     "shell.execute_reply.started": "2021-12-08T07:03:10.121849Z"
    },
    "papermill": {
     "duration": 0.068393,
     "end_time": "2021-12-08T07:25:51.778648",
     "exception": false,
     "start_time": "2021-12-08T07:25:51.710255",
     "status": "completed"
    },
    "tags": []
   },
   "outputs": [
    {
     "name": "stdout",
     "output_type": "stream",
     "text": [
      "<class 'pandas.core.frame.DataFrame'>\n",
      "RangeIndex: 2935849 entries, 0 to 2935848\n",
      "Data columns (total 6 columns):\n",
      " #   Column          Dtype  \n",
      "---  ------          -----  \n",
      " 0   date            object \n",
      " 1   date_block_num  int64  \n",
      " 2   shop_id         int64  \n",
      " 3   item_id         int64  \n",
      " 4   item_price      float64\n",
      " 5   item_cnt_day    float64\n",
      "dtypes: float64(2), int64(3), object(1)\n",
      "memory usage: 134.4+ MB\n"
     ]
    }
   ],
   "source": [
    "train.info()"
   ]
  },
  {
   "cell_type": "code",
   "execution_count": 120,
   "id": "skilled-hybrid",
   "metadata": {
    "execution": {
     "iopub.execute_input": "2021-12-08T07:25:51.882491Z",
     "iopub.status.busy": "2021-12-08T07:25:51.881222Z",
     "iopub.status.idle": "2021-12-08T07:25:52.188459Z",
     "shell.execute_reply": "2021-12-08T07:25:52.187528Z",
     "shell.execute_reply.started": "2021-12-08T07:03:10.142464Z"
    },
    "papermill": {
     "duration": 0.361431,
     "end_time": "2021-12-08T07:25:52.188638",
     "exception": false,
     "start_time": "2021-12-08T07:25:51.827207",
     "status": "completed"
    },
    "tags": []
   },
   "outputs": [
    {
     "data": {
      "text/plain": [
       "date              0\n",
       "date_block_num    0\n",
       "shop_id           0\n",
       "item_id           0\n",
       "item_price        0\n",
       "item_cnt_day      0\n",
       "dtype: int64"
      ]
     },
     "execution_count": 120,
     "metadata": {},
     "output_type": "execute_result"
    }
   ],
   "source": [
    "train.isnull().sum()"
   ]
  },
  {
   "cell_type": "code",
   "execution_count": 121,
   "id": "4665c9a2",
   "metadata": {},
   "outputs": [
    {
     "data": {
      "text/html": [
       "<div>\n",
       "<style scoped>\n",
       "    .dataframe tbody tr th:only-of-type {\n",
       "        vertical-align: middle;\n",
       "    }\n",
       "\n",
       "    .dataframe tbody tr th {\n",
       "        vertical-align: top;\n",
       "    }\n",
       "\n",
       "    .dataframe thead th {\n",
       "        text-align: right;\n",
       "    }\n",
       "</style>\n",
       "<table border=\"1\" class=\"dataframe\">\n",
       "  <thead>\n",
       "    <tr style=\"text-align: right;\">\n",
       "      <th></th>\n",
       "      <th>date_block_num</th>\n",
       "      <th>shop_id</th>\n",
       "      <th>item_id</th>\n",
       "      <th>item_price</th>\n",
       "      <th>item_cnt_day</th>\n",
       "    </tr>\n",
       "  </thead>\n",
       "  <tbody>\n",
       "    <tr>\n",
       "      <th>date_block_num</th>\n",
       "      <td>1.00</td>\n",
       "      <td>0.02</td>\n",
       "      <td>0.01</td>\n",
       "      <td>0.10</td>\n",
       "      <td>0.01</td>\n",
       "    </tr>\n",
       "    <tr>\n",
       "      <th>shop_id</th>\n",
       "      <td>0.02</td>\n",
       "      <td>1.00</td>\n",
       "      <td>0.03</td>\n",
       "      <td>-0.02</td>\n",
       "      <td>-0.01</td>\n",
       "    </tr>\n",
       "    <tr>\n",
       "      <th>item_id</th>\n",
       "      <td>0.01</td>\n",
       "      <td>0.03</td>\n",
       "      <td>1.00</td>\n",
       "      <td>-0.13</td>\n",
       "      <td>0.02</td>\n",
       "    </tr>\n",
       "    <tr>\n",
       "      <th>item_price</th>\n",
       "      <td>0.10</td>\n",
       "      <td>-0.02</td>\n",
       "      <td>-0.13</td>\n",
       "      <td>1.00</td>\n",
       "      <td>0.01</td>\n",
       "    </tr>\n",
       "    <tr>\n",
       "      <th>item_cnt_day</th>\n",
       "      <td>0.01</td>\n",
       "      <td>-0.01</td>\n",
       "      <td>0.02</td>\n",
       "      <td>0.01</td>\n",
       "      <td>1.00</td>\n",
       "    </tr>\n",
       "  </tbody>\n",
       "</table>\n",
       "</div>"
      ],
      "text/plain": [
       "                date_block_num  shop_id  item_id  item_price  item_cnt_day\n",
       "date_block_num            1.00     0.02     0.01        0.10          0.01\n",
       "shop_id                   0.02     1.00     0.03       -0.02         -0.01\n",
       "item_id                   0.01     0.03     1.00       -0.13          0.02\n",
       "item_price                0.10    -0.02    -0.13        1.00          0.01\n",
       "item_cnt_day              0.01    -0.01     0.02        0.01          1.00"
      ]
     },
     "execution_count": 121,
     "metadata": {},
     "output_type": "execute_result"
    }
   ],
   "source": [
    "correlation_matrix = train.corr().round(2)\n",
    "correlation_matrix"
   ]
  },
  {
   "cell_type": "code",
   "execution_count": 122,
   "id": "e173479f",
   "metadata": {},
   "outputs": [
    {
     "data": {
      "text/plain": [
       "<AxesSubplot:>"
      ]
     },
     "execution_count": 122,
     "metadata": {},
     "output_type": "execute_result"
    },
    {
     "data": {
      "image/png": "[encoded data removed]",
      "text/plain": [
       "<Figure size 432x288 with 2 Axes>"
      ]
     },
     "metadata": {
      "needs_background": "light"
     },
     "output_type": "display_data"
    }
   ],
   "source": [
    "sns.heatmap(correlation_matrix, annot = True, fmt = \".1f\", linewidths=.5, cmap='gist_ncar')"
   ]
  },
  {
   "cell_type": "code",
   "execution_count": 123,
   "id": "further-surge",
   "metadata": {
    "execution": {
     "iopub.execute_input": "2021-12-08T07:25:52.467841Z",
     "iopub.status.busy": "2021-12-08T07:25:52.466408Z",
     "iopub.status.idle": "2021-12-08T07:25:55.197668Z",
     "shell.execute_reply": "2021-12-08T07:25:55.197072Z",
     "shell.execute_reply.started": "2021-12-08T07:03:10.428930Z"
    },
    "papermill": {
     "duration": 2.961253,
     "end_time": "2021-12-08T07:25:55.197821",
     "exception": false,
     "start_time": "2021-12-08T07:25:52.236568",
     "status": "completed"
    },
    "tags": []
   },
   "outputs": [
    {
     "data": {
      "image/png": "[encoded data removed]",
      "text/plain": [
       "<Figure size 1152x432 with 1 Axes>"
      ]
     },
     "metadata": {
      "needs_background": "light"
     },
     "output_type": "display_data"
    }
   ],
   "source": [
    "%matplotlib inline\n",
    "sales_df = train\n",
    "sales_df[\"month\"]=pd.DatetimeIndex(pd.to_datetime(sales_df['date'],format='%d.%m.%Y')).month\n",
    "sales_df[\"year\"]=pd.DatetimeIndex(pd.to_datetime(sales_df['date'],format='%d.%m.%Y')).year\n",
    "sales_df[\"day\"]=pd.DatetimeIndex(pd.to_datetime(sales_df['date'],format='%d.%m.%Y')).day\n",
    "\n",
    "#Lets Plot the trend of sale for year 2013\n",
    "MONTHS = ['Jan', 'Feb', 'Mar', 'Apr', 'May', 'Jun', 'Jul', 'Aug', 'Sep', 'Oct', 'Nov', 'Dec']\n",
    "\n",
    "check_trend = sales_df[['date_block_num','item_cnt_day', 'month','year']].copy()\n",
    "\n",
    "# Sum of sold items as per date_block_num\n",
    "check_trend = check_trend.groupby('date_block_num', as_index=False)\\\n",
    "       .agg({'year':'first', 'month':'first', 'item_cnt_day':'sum'})\\\n",
    "       .rename(columns={'item_cnt_day':'item_cnt_month'}, inplace=False)\n",
    "\n",
    "plt.figure(figsize=(16,6))\n",
    "plt.plot(MONTHS, check_trend[check_trend.year==2013].item_cnt_month, '-s', color='Red', label='2013')\n",
    "\n",
    "# Axes parameters\n",
    "ax = plt.gca()\n",
    "ax.set_title('SALES FOR YEAR 2013')\n",
    "ax.set_ylabel('ITEMS-COUNT')\n",
    "ax.grid(axis='y', color='black', alpha=.2)"
   ]
  },
  {
   "cell_type": "code",
   "execution_count": 124,
   "id": "rising-poverty",
   "metadata": {
    "execution": {
     "iopub.execute_input": "2021-12-08T07:25:55.317328Z",
     "iopub.status.busy": "2021-12-08T07:25:55.313218Z",
     "iopub.status.idle": "2021-12-08T07:25:55.533900Z",
     "shell.execute_reply": "2021-12-08T07:25:55.534449Z",
     "shell.execute_reply.started": "2021-12-08T07:03:13.181976Z"
    },
    "papermill": {
     "duration": 0.292865,
     "end_time": "2021-12-08T07:25:55.534696",
     "exception": false,
     "start_time": "2021-12-08T07:25:55.241831",
     "status": "completed"
    },
    "tags": []
   },
   "outputs": [
    {
     "data": {
      "image/png": "[encoded data removed]",
      "text/plain": [
       "<Figure size 1152x432 with 1 Axes>"
      ]
     },
     "metadata": {
      "needs_background": "light"
     },
     "output_type": "display_data"
    }
   ],
   "source": [
    "# Same way let's plot for all three years data together to compare the trend\n",
    "\n",
    "plt.figure(figsize=(16,6))\n",
    "\n",
    "#2013\n",
    "plt.plot(MONTHS, check_trend[check_trend.year==2013].item_cnt_month, '-o', color='red', label='2013')\n",
    "\n",
    "# 2014\n",
    "plt.plot(MONTHS, check_trend[check_trend.year==2014].item_cnt_month, '-o', color='green', label='2014')\n",
    "\n",
    "# 2015 - is until October only\n",
    "plt.plot(MONTHS[:10], check_trend[check_trend.year==2015].item_cnt_month, '-o', color='yellow', label='2015')\n",
    "\n",
    "\n",
    "# Axes parameters\n",
    "ax = plt.gca()\n",
    "ax.set_title('MONTHLY SALES FOR ALL THREE YEARS ')\n",
    "ax.set_ylabel('ITEMS COUNT')\n",
    "ax.grid(axis='y', color='black', alpha=.2)\n",
    "    \n",
    "# Remove the frame off the chart\n",
    "for spine in plt.gca().spines.values():\n",
    "    spine.set_visible(False)\n",
    "plt.legend(loc=2, title='Lines')\n",
    "plt.show()"
   ]
  },
  {
   "cell_type": "code",
   "execution_count": 125,
   "id": "rural-belarus",
   "metadata": {
    "execution": {
     "iopub.execute_input": "2021-12-08T07:25:55.639383Z",
     "iopub.status.busy": "2021-12-08T07:25:55.638133Z",
     "iopub.status.idle": "2021-12-08T07:26:03.382442Z",
     "shell.execute_reply": "2021-12-08T07:26:03.382996Z",
     "shell.execute_reply.started": "2021-12-08T07:03:13.444458Z"
    },
    "papermill": {
     "duration": 7.805181,
     "end_time": "2021-12-08T07:26:03.383185",
     "exception": false,
     "start_time": "2021-12-08T07:25:55.578004",
     "status": "completed"
    },
    "tags": []
   },
   "outputs": [
    {
     "data": {
      "text/plain": [
       "<seaborn.axisgrid.FacetGrid at 0x20aba63f970>"
      ]
     },
     "execution_count": 125,
     "metadata": {},
     "output_type": "execute_result"
    },
    {
     "data": {
      "text/plain": [
       "<Figure size 864x576 with 0 Axes>"
      ]
     },
     "metadata": {},
     "output_type": "display_data"
    },
    {
     "data": {
      "image/png": "[encoded data removed]",
      "text/plain": [
       "<Figure size 1141.5x1080 with 9 Axes>"
      ]
     },
     "metadata": {
      "needs_background": "light"
     },
     "output_type": "display_data"
    }
   ],
   "source": [
    "#Lets check what is same data for all years togehter as per shop\n",
    "%matplotlib inline\n",
    "shops_counts = pd.DataFrame()\n",
    "shops_counts['shop_id'] = shops.shop_id\n",
    "shops_counts['counts'] = [sales_df.item_cnt_day[sales_df.shop_id == x].sum() for x in shops.shop_id]\n",
    "best_shops = list(shops_counts.sort_values('counts', ascending=False).head(9).shop_id)\n",
    "\n",
    "counts_input = []\n",
    "years_input = []\n",
    "months_input = []\n",
    "shops_input = []\n",
    "\n",
    "for y in [2013,2014,2015]:\n",
    "    for mm, m in zip(range(1, 13), MONTHS):\n",
    "        for s in best_shops:\n",
    "            the_input = sales_df.item_cnt_day[(sales_df.year == y) &\n",
    "                                           (sales_df.month == mm) &\n",
    "                                           (sales_df.shop_id == s)].sum()\n",
    "            counts_input.append(the_input)\n",
    "            years_input.append(y)\n",
    "            months_input.append(m)\n",
    "            shops_input.append(s)\n",
    "\n",
    "df_exm_shops = pd.DataFrame()\n",
    "df_exm_shops['year'] = years_input\n",
    "df_exm_shops['month'] = months_input\n",
    "df_exm_shops['shop_id'] = shops_input\n",
    "df_exm_shops['counts'] = counts_input\n",
    "\n",
    "plt.figure(figsize=(12, 8))\n",
    "sns.relplot(data=df_exm_shops, x='month', y='counts', hue='year',\n",
    "            col='shop_id', col_wrap=3, kind='line')"
   ]
  },
  {
   "cell_type": "code",
   "execution_count": 126,
   "id": "computational-olympus",
   "metadata": {
    "execution": {
     "iopub.execute_input": "2021-12-08T07:26:03.489788Z",
     "iopub.status.busy": "2021-12-08T07:26:03.489022Z",
     "iopub.status.idle": "2021-12-08T07:26:03.496068Z",
     "shell.execute_reply": "2021-12-08T07:26:03.495369Z",
     "shell.execute_reply.started": "2021-12-08T07:03:21.126397Z"
    },
    "papermill": {
     "duration": 0.06383,
     "end_time": "2021-12-08T07:26:03.496196",
     "exception": false,
     "start_time": "2021-12-08T07:26:03.432366",
     "status": "completed"
    },
    "tags": []
   },
   "outputs": [
    {
     "data": {
      "text/html": [
       "<div>\n",
       "<style scoped>\n",
       "    .dataframe tbody tr th:only-of-type {\n",
       "        vertical-align: middle;\n",
       "    }\n",
       "\n",
       "    .dataframe tbody tr th {\n",
       "        vertical-align: top;\n",
       "    }\n",
       "\n",
       "    .dataframe thead th {\n",
       "        text-align: right;\n",
       "    }\n",
       "</style>\n",
       "<table border=\"1\" class=\"dataframe\">\n",
       "  <thead>\n",
       "    <tr style=\"text-align: right;\">\n",
       "      <th></th>\n",
       "      <th>item_category_name</th>\n",
       "      <th>item_category_id</th>\n",
       "    </tr>\n",
       "  </thead>\n",
       "  <tbody>\n",
       "    <tr>\n",
       "      <th>0</th>\n",
       "      <td>PC - Гарнитуры/Наушники</td>\n",
       "      <td>0</td>\n",
       "    </tr>\n",
       "    <tr>\n",
       "      <th>1</th>\n",
       "      <td>Аксессуары - PS2</td>\n",
       "      <td>1</td>\n",
       "    </tr>\n",
       "    <tr>\n",
       "      <th>2</th>\n",
       "      <td>Аксессуары - PS3</td>\n",
       "      <td>2</td>\n",
       "    </tr>\n",
       "    <tr>\n",
       "      <th>3</th>\n",
       "      <td>Аксессуары - PS4</td>\n",
       "      <td>3</td>\n",
       "    </tr>\n",
       "    <tr>\n",
       "      <th>4</th>\n",
       "      <td>Аксессуары - PSP</td>\n",
       "      <td>4</td>\n",
       "    </tr>\n",
       "  </tbody>\n",
       "</table>\n",
       "</div>"
      ],
      "text/plain": [
       "        item_category_name  item_category_id\n",
       "0  PC - Гарнитуры/Наушники                 0\n",
       "1         Аксессуары - PS2                 1\n",
       "2         Аксессуары - PS3                 2\n",
       "3         Аксессуары - PS4                 3\n",
       "4         Аксессуары - PSP                 4"
      ]
     },
     "execution_count": 126,
     "metadata": {},
     "output_type": "execute_result"
    }
   ],
   "source": [
    "item_categories.head()"
   ]
  },
  {
   "cell_type": "code",
   "execution_count": 127,
   "id": "extreme-rugby",
   "metadata": {
    "execution": {
     "iopub.execute_input": "2021-12-08T07:26:03.609022Z",
     "iopub.status.busy": "2021-12-08T07:26:03.607934Z",
     "iopub.status.idle": "2021-12-08T07:26:04.186728Z",
     "shell.execute_reply": "2021-12-08T07:26:04.186177Z",
     "shell.execute_reply.started": "2021-12-08T07:03:21.141249Z"
    },
    "papermill": {
     "duration": 0.641307,
     "end_time": "2021-12-08T07:26:04.186896",
     "exception": false,
     "start_time": "2021-12-08T07:26:03.545589",
     "status": "completed"
    },
    "tags": []
   },
   "outputs": [
    {
     "data": {
      "image/png": "[encoded data removed]",
      "text/plain": [
       "<Figure size 720x504 with 1 Axes>"
      ]
     },
     "metadata": {
      "needs_background": "light"
     },
     "output_type": "display_data"
    }
   ],
   "source": [
    "#Lets Also check which Item category is sold most to check the impact of item categories\n",
    "%matplotlib inline\n",
    "\n",
    "most_bought = pd.DataFrame()\n",
    "most_bought['item_category'] = item_categories.item_category_id\n",
    "\n",
    "bought = []\n",
    "for i in most_bought['item_category']:\n",
    "    x = train.item_cnt_day[train.item_id == i].sum()\n",
    "    bought.append(x)\n",
    "most_bought['cnt_total'] = bought\n",
    "\n",
    "most_bought = most_bought.sort_values('cnt_total', ascending=False)\n",
    "\n",
    "plt.figure(figsize=(10, 7))\n",
    "sns.barplot(data=most_bought.iloc[:10], x='item_category', y='cnt_total')\n",
    "\n",
    "del most_bought"
   ]
  },
  {
   "cell_type": "markdown",
   "id": "double-latitude",
   "metadata": {
    "papermill": {
     "duration": 0.049877,
     "end_time": "2021-12-08T07:26:04.286984",
     "exception": false,
     "start_time": "2021-12-08T07:26:04.237107",
     "status": "completed"
    },
    "tags": []
   },
   "source": [
    "**Feature Engineering**"
   ]
  },
  {
   "cell_type": "code",
   "execution_count": 128,
   "id": "blind-smart",
   "metadata": {
    "execution": {
     "iopub.execute_input": "2021-12-08T07:26:04.547219Z",
     "iopub.status.busy": "2021-12-08T07:26:04.546270Z",
     "iopub.status.idle": "2021-12-08T07:26:04.915008Z",
     "shell.execute_reply": "2021-12-08T07:26:04.915559Z",
     "shell.execute_reply.started": "2021-12-08T07:03:21.731675Z"
    },
    "papermill": {
     "duration": 0.577843,
     "end_time": "2021-12-08T07:26:04.915756",
     "exception": false,
     "start_time": "2021-12-08T07:26:04.337913",
     "status": "completed"
    },
    "tags": []
   },
   "outputs": [
    {
     "data": {
      "text/html": [
       "<div>\n",
       "<style scoped>\n",
       "    .dataframe tbody tr th:only-of-type {\n",
       "        vertical-align: middle;\n",
       "    }\n",
       "\n",
       "    .dataframe tbody tr th {\n",
       "        vertical-align: top;\n",
       "    }\n",
       "\n",
       "    .dataframe thead th {\n",
       "        text-align: right;\n",
       "    }\n",
       "</style>\n",
       "<table border=\"1\" class=\"dataframe\">\n",
       "  <thead>\n",
       "    <tr style=\"text-align: right;\">\n",
       "      <th></th>\n",
       "      <th>date</th>\n",
       "      <th>date_block_num</th>\n",
       "      <th>shop_id</th>\n",
       "      <th>item_id</th>\n",
       "      <th>item_price</th>\n",
       "      <th>item_cnt_day</th>\n",
       "      <th>month</th>\n",
       "      <th>year</th>\n",
       "      <th>day</th>\n",
       "    </tr>\n",
       "  </thead>\n",
       "  <tbody>\n",
       "    <tr>\n",
       "      <th>0</th>\n",
       "      <td>2013-02-01</td>\n",
       "      <td>0</td>\n",
       "      <td>59</td>\n",
       "      <td>22154</td>\n",
       "      <td>999.00</td>\n",
       "      <td>1.0</td>\n",
       "      <td>1</td>\n",
       "      <td>2013</td>\n",
       "      <td>2</td>\n",
       "    </tr>\n",
       "    <tr>\n",
       "      <th>1</th>\n",
       "      <td>2013-03-01</td>\n",
       "      <td>0</td>\n",
       "      <td>25</td>\n",
       "      <td>2552</td>\n",
       "      <td>899.00</td>\n",
       "      <td>1.0</td>\n",
       "      <td>1</td>\n",
       "      <td>2013</td>\n",
       "      <td>3</td>\n",
       "    </tr>\n",
       "    <tr>\n",
       "      <th>2</th>\n",
       "      <td>2013-05-01</td>\n",
       "      <td>0</td>\n",
       "      <td>25</td>\n",
       "      <td>2552</td>\n",
       "      <td>899.00</td>\n",
       "      <td>-1.0</td>\n",
       "      <td>1</td>\n",
       "      <td>2013</td>\n",
       "      <td>5</td>\n",
       "    </tr>\n",
       "    <tr>\n",
       "      <th>3</th>\n",
       "      <td>2013-06-01</td>\n",
       "      <td>0</td>\n",
       "      <td>25</td>\n",
       "      <td>2554</td>\n",
       "      <td>1709.05</td>\n",
       "      <td>1.0</td>\n",
       "      <td>1</td>\n",
       "      <td>2013</td>\n",
       "      <td>6</td>\n",
       "    </tr>\n",
       "    <tr>\n",
       "      <th>4</th>\n",
       "      <td>2013-01-15</td>\n",
       "      <td>0</td>\n",
       "      <td>25</td>\n",
       "      <td>2555</td>\n",
       "      <td>1099.00</td>\n",
       "      <td>1.0</td>\n",
       "      <td>1</td>\n",
       "      <td>2013</td>\n",
       "      <td>15</td>\n",
       "    </tr>\n",
       "  </tbody>\n",
       "</table>\n",
       "</div>"
      ],
      "text/plain": [
       "        date  date_block_num  shop_id  item_id  item_price  item_cnt_day  \\\n",
       "0 2013-02-01               0       59    22154      999.00           1.0   \n",
       "1 2013-03-01               0       25     2552      899.00           1.0   \n",
       "2 2013-05-01               0       25     2552      899.00          -1.0   \n",
       "3 2013-06-01               0       25     2554     1709.05           1.0   \n",
       "4 2013-01-15               0       25     2555     1099.00           1.0   \n",
       "\n",
       "   month  year  day  \n",
       "0      1  2013    2  \n",
       "1      1  2013    3  \n",
       "2      1  2013    5  \n",
       "3      1  2013    6  \n",
       "4      1  2013   15  "
      ]
     },
     "execution_count": 128,
     "metadata": {},
     "output_type": "execute_result"
    }
   ],
   "source": [
    "# Lets convert the date column to datetime data type\n",
    "train['date'] = pd.to_datetime(train['date'])\n",
    "train.head()"
   ]
  },
  {
   "cell_type": "code",
   "execution_count": 129,
   "id": "applied-trailer",
   "metadata": {
    "execution": {
     "iopub.execute_input": "2021-12-08T07:26:05.026206Z",
     "iopub.status.busy": "2021-12-08T07:26:05.024713Z",
     "iopub.status.idle": "2021-12-08T07:26:32.822146Z",
     "shell.execute_reply": "2021-12-08T07:26:32.821498Z",
     "shell.execute_reply.started": "2021-12-08T07:03:22.241203Z"
    },
    "papermill": {
     "duration": 27.855458,
     "end_time": "2021-12-08T07:26:32.822298",
     "exception": false,
     "start_time": "2021-12-08T07:26:04.966840",
     "status": "completed"
    },
    "tags": []
   },
   "outputs": [
    {
     "data": {
      "text/html": [
       "<div>\n",
       "<style scoped>\n",
       "    .dataframe tbody tr th:only-of-type {\n",
       "        vertical-align: middle;\n",
       "    }\n",
       "\n",
       "    .dataframe tbody tr th {\n",
       "        vertical-align: top;\n",
       "    }\n",
       "\n",
       "    .dataframe thead th {\n",
       "        text-align: right;\n",
       "    }\n",
       "</style>\n",
       "<table border=\"1\" class=\"dataframe\">\n",
       "  <thead>\n",
       "    <tr style=\"text-align: right;\">\n",
       "      <th></th>\n",
       "      <th>date</th>\n",
       "      <th>date_block_num</th>\n",
       "      <th>shop_id</th>\n",
       "      <th>item_id</th>\n",
       "      <th>item_price</th>\n",
       "      <th>item_cnt_day</th>\n",
       "      <th>month</th>\n",
       "      <th>year</th>\n",
       "      <th>day</th>\n",
       "    </tr>\n",
       "  </thead>\n",
       "  <tbody>\n",
       "    <tr>\n",
       "      <th>0</th>\n",
       "      <td>2013-02</td>\n",
       "      <td>0</td>\n",
       "      <td>59</td>\n",
       "      <td>22154</td>\n",
       "      <td>999.00</td>\n",
       "      <td>1.0</td>\n",
       "      <td>1</td>\n",
       "      <td>2013</td>\n",
       "      <td>2</td>\n",
       "    </tr>\n",
       "    <tr>\n",
       "      <th>1</th>\n",
       "      <td>2013-03</td>\n",
       "      <td>0</td>\n",
       "      <td>25</td>\n",
       "      <td>2552</td>\n",
       "      <td>899.00</td>\n",
       "      <td>1.0</td>\n",
       "      <td>1</td>\n",
       "      <td>2013</td>\n",
       "      <td>3</td>\n",
       "    </tr>\n",
       "    <tr>\n",
       "      <th>2</th>\n",
       "      <td>2013-05</td>\n",
       "      <td>0</td>\n",
       "      <td>25</td>\n",
       "      <td>2552</td>\n",
       "      <td>899.00</td>\n",
       "      <td>-1.0</td>\n",
       "      <td>1</td>\n",
       "      <td>2013</td>\n",
       "      <td>5</td>\n",
       "    </tr>\n",
       "    <tr>\n",
       "      <th>3</th>\n",
       "      <td>2013-06</td>\n",
       "      <td>0</td>\n",
       "      <td>25</td>\n",
       "      <td>2554</td>\n",
       "      <td>1709.05</td>\n",
       "      <td>1.0</td>\n",
       "      <td>1</td>\n",
       "      <td>2013</td>\n",
       "      <td>6</td>\n",
       "    </tr>\n",
       "    <tr>\n",
       "      <th>4</th>\n",
       "      <td>2013-01</td>\n",
       "      <td>0</td>\n",
       "      <td>25</td>\n",
       "      <td>2555</td>\n",
       "      <td>1099.00</td>\n",
       "      <td>1.0</td>\n",
       "      <td>1</td>\n",
       "      <td>2013</td>\n",
       "      <td>15</td>\n",
       "    </tr>\n",
       "  </tbody>\n",
       "</table>\n",
       "</div>"
      ],
      "text/plain": [
       "      date  date_block_num  shop_id  item_id  item_price  item_cnt_day  month  \\\n",
       "0  2013-02               0       59    22154      999.00           1.0      1   \n",
       "1  2013-03               0       25     2552      899.00           1.0      1   \n",
       "2  2013-05               0       25     2552      899.00          -1.0      1   \n",
       "3  2013-06               0       25     2554     1709.05           1.0      1   \n",
       "4  2013-01               0       25     2555     1099.00           1.0      1   \n",
       "\n",
       "   year  day  \n",
       "0  2013    2  \n",
       "1  2013    3  \n",
       "2  2013    5  \n",
       "3  2013    6  \n",
       "4  2013   15  "
      ]
     },
     "execution_count": 129,
     "metadata": {},
     "output_type": "execute_result"
    }
   ],
   "source": [
    "#Lets keep the month and year\n",
    "train['date'] = train['date'].apply(lambda x: x.strftime(\"%Y-%m\"))\n",
    "train.head()"
   ]
  },
  {
   "cell_type": "code",
   "execution_count": 130,
   "id": "broadband-screen",
   "metadata": {
    "execution": {
     "iopub.execute_input": "2021-12-08T07:26:32.941384Z",
     "iopub.status.busy": "2021-12-08T07:26:32.940133Z",
     "iopub.status.idle": "2021-12-08T07:26:32.944585Z",
     "shell.execute_reply": "2021-12-08T07:26:32.945040Z",
     "shell.execute_reply.started": "2021-12-08T07:03:50.825536Z"
    },
    "papermill": {
     "duration": 0.071193,
     "end_time": "2021-12-08T07:26:32.945208",
     "exception": false,
     "start_time": "2021-12-08T07:26:32.874015",
     "status": "completed"
    },
    "tags": []
   },
   "outputs": [
    {
     "data": {
      "text/html": [
       "<div>\n",
       "<style scoped>\n",
       "    .dataframe tbody tr th:only-of-type {\n",
       "        vertical-align: middle;\n",
       "    }\n",
       "\n",
       "    .dataframe tbody tr th {\n",
       "        vertical-align: top;\n",
       "    }\n",
       "\n",
       "    .dataframe thead th {\n",
       "        text-align: right;\n",
       "    }\n",
       "</style>\n",
       "<table border=\"1\" class=\"dataframe\">\n",
       "  <thead>\n",
       "    <tr style=\"text-align: right;\">\n",
       "      <th></th>\n",
       "      <th>date</th>\n",
       "      <th>date_block_num</th>\n",
       "      <th>shop_id</th>\n",
       "      <th>item_id</th>\n",
       "      <th>item_price</th>\n",
       "      <th>item_cnt_day</th>\n",
       "      <th>month</th>\n",
       "      <th>year</th>\n",
       "      <th>day</th>\n",
       "    </tr>\n",
       "  </thead>\n",
       "  <tbody>\n",
       "    <tr>\n",
       "      <th>4</th>\n",
       "      <td>2013-01</td>\n",
       "      <td>0</td>\n",
       "      <td>25</td>\n",
       "      <td>2555</td>\n",
       "      <td>1099.00</td>\n",
       "      <td>1.0</td>\n",
       "      <td>1</td>\n",
       "      <td>2013</td>\n",
       "      <td>15</td>\n",
       "    </tr>\n",
       "    <tr>\n",
       "      <th>0</th>\n",
       "      <td>2013-02</td>\n",
       "      <td>0</td>\n",
       "      <td>59</td>\n",
       "      <td>22154</td>\n",
       "      <td>999.00</td>\n",
       "      <td>1.0</td>\n",
       "      <td>1</td>\n",
       "      <td>2013</td>\n",
       "      <td>2</td>\n",
       "    </tr>\n",
       "    <tr>\n",
       "      <th>1</th>\n",
       "      <td>2013-03</td>\n",
       "      <td>0</td>\n",
       "      <td>25</td>\n",
       "      <td>2552</td>\n",
       "      <td>899.00</td>\n",
       "      <td>1.0</td>\n",
       "      <td>1</td>\n",
       "      <td>2013</td>\n",
       "      <td>3</td>\n",
       "    </tr>\n",
       "    <tr>\n",
       "      <th>2</th>\n",
       "      <td>2013-05</td>\n",
       "      <td>0</td>\n",
       "      <td>25</td>\n",
       "      <td>2552</td>\n",
       "      <td>899.00</td>\n",
       "      <td>-1.0</td>\n",
       "      <td>1</td>\n",
       "      <td>2013</td>\n",
       "      <td>5</td>\n",
       "    </tr>\n",
       "    <tr>\n",
       "      <th>3</th>\n",
       "      <td>2013-06</td>\n",
       "      <td>0</td>\n",
       "      <td>25</td>\n",
       "      <td>2554</td>\n",
       "      <td>1709.05</td>\n",
       "      <td>1.0</td>\n",
       "      <td>1</td>\n",
       "      <td>2013</td>\n",
       "      <td>6</td>\n",
       "    </tr>\n",
       "  </tbody>\n",
       "</table>\n",
       "</div>"
      ],
      "text/plain": [
       "      date  date_block_num  shop_id  item_id  item_price  item_cnt_day  month  \\\n",
       "4  2013-01               0       25     2555     1099.00           1.0      1   \n",
       "0  2013-02               0       59    22154      999.00           1.0      1   \n",
       "1  2013-03               0       25     2552      899.00           1.0      1   \n",
       "2  2013-05               0       25     2552      899.00          -1.0      1   \n",
       "3  2013-06               0       25     2554     1709.05           1.0      1   \n",
       "\n",
       "   year  day  \n",
       "4  2013   15  \n",
       "0  2013    2  \n",
       "1  2013    3  \n",
       "2  2013    5  \n",
       "3  2013    6  "
      ]
     },
     "execution_count": 130,
     "metadata": {},
     "output_type": "execute_result"
    }
   ],
   "source": [
    "# Sort the vlaues as per Month-Year in ascending order\n",
    "train.head().sort_values(by = 'date')"
   ]
  },
  {
   "cell_type": "code",
   "execution_count": 131,
   "id": "round-thumb",
   "metadata": {
    "execution": {
     "iopub.execute_input": "2021-12-08T07:26:33.134792Z",
     "iopub.status.busy": "2021-12-08T07:26:33.133766Z",
     "iopub.status.idle": "2021-12-08T07:26:33.182596Z",
     "shell.execute_reply": "2021-12-08T07:26:33.183882Z",
     "shell.execute_reply.started": "2021-12-08T07:03:50.847206Z"
    },
    "papermill": {
     "duration": 0.166735,
     "end_time": "2021-12-08T07:26:33.184127",
     "exception": false,
     "start_time": "2021-12-08T07:26:33.017392",
     "status": "completed"
    },
    "tags": []
   },
   "outputs": [
    {
     "data": {
      "text/plain": [
       "array([ 0,  1,  2,  3,  4,  5,  6,  7,  8,  9, 10, 11, 12, 13, 14, 15, 16,\n",
       "       17, 18, 19, 20, 21, 22, 23, 24, 25, 26, 27, 28, 29, 30, 31, 32, 33],\n",
       "      dtype=int64)"
      ]
     },
     "execution_count": 131,
     "metadata": {},
     "output_type": "execute_result"
    }
   ],
   "source": [
    "train['date_block_num'].unique()"
   ]
  },
  {
   "cell_type": "code",
   "execution_count": 132,
   "id": "useful-testament",
   "metadata": {
    "execution": {
     "iopub.execute_input": "2021-12-08T07:26:33.380628Z",
     "iopub.status.busy": "2021-12-08T07:26:33.379193Z",
     "iopub.status.idle": "2021-12-08T07:26:33.497303Z",
     "shell.execute_reply": "2021-12-08T07:26:33.498206Z",
     "shell.execute_reply.started": "2021-12-08T07:03:50.879308Z"
    },
    "papermill": {
     "duration": 0.217757,
     "end_time": "2021-12-08T07:26:33.498432",
     "exception": false,
     "start_time": "2021-12-08T07:26:33.280675",
     "status": "completed"
    },
    "tags": []
   },
   "outputs": [],
   "source": [
    "# Remove the date_block_num and item_price column\n",
    "train.drop(['date_block_num','item_price'] , axis =1, inplace= True)"
   ]
  },
  {
   "cell_type": "code",
   "execution_count": 133,
   "id": "local-elements",
   "metadata": {
    "execution": {
     "iopub.execute_input": "2021-12-08T07:26:33.688163Z",
     "iopub.status.busy": "2021-12-08T07:26:33.687238Z",
     "iopub.status.idle": "2021-12-08T07:26:33.691711Z",
     "shell.execute_reply": "2021-12-08T07:26:33.692228Z",
     "shell.execute_reply.started": "2021-12-08T07:03:50.986342Z"
    },
    "papermill": {
     "duration": 0.105177,
     "end_time": "2021-12-08T07:26:33.692384",
     "exception": false,
     "start_time": "2021-12-08T07:26:33.587207",
     "status": "completed"
    },
    "tags": []
   },
   "outputs": [
    {
     "data": {
      "text/html": [
       "<div>\n",
       "<style scoped>\n",
       "    .dataframe tbody tr th:only-of-type {\n",
       "        vertical-align: middle;\n",
       "    }\n",
       "\n",
       "    .dataframe tbody tr th {\n",
       "        vertical-align: top;\n",
       "    }\n",
       "\n",
       "    .dataframe thead th {\n",
       "        text-align: right;\n",
       "    }\n",
       "</style>\n",
       "<table border=\"1\" class=\"dataframe\">\n",
       "  <thead>\n",
       "    <tr style=\"text-align: right;\">\n",
       "      <th></th>\n",
       "      <th>date</th>\n",
       "      <th>shop_id</th>\n",
       "      <th>item_id</th>\n",
       "      <th>item_cnt_day</th>\n",
       "      <th>month</th>\n",
       "      <th>year</th>\n",
       "      <th>day</th>\n",
       "    </tr>\n",
       "  </thead>\n",
       "  <tbody>\n",
       "    <tr>\n",
       "      <th>4</th>\n",
       "      <td>2013-01</td>\n",
       "      <td>25</td>\n",
       "      <td>2555</td>\n",
       "      <td>1.0</td>\n",
       "      <td>1</td>\n",
       "      <td>2013</td>\n",
       "      <td>15</td>\n",
       "    </tr>\n",
       "    <tr>\n",
       "      <th>0</th>\n",
       "      <td>2013-02</td>\n",
       "      <td>59</td>\n",
       "      <td>22154</td>\n",
       "      <td>1.0</td>\n",
       "      <td>1</td>\n",
       "      <td>2013</td>\n",
       "      <td>2</td>\n",
       "    </tr>\n",
       "    <tr>\n",
       "      <th>1</th>\n",
       "      <td>2013-03</td>\n",
       "      <td>25</td>\n",
       "      <td>2552</td>\n",
       "      <td>1.0</td>\n",
       "      <td>1</td>\n",
       "      <td>2013</td>\n",
       "      <td>3</td>\n",
       "    </tr>\n",
       "    <tr>\n",
       "      <th>2</th>\n",
       "      <td>2013-05</td>\n",
       "      <td>25</td>\n",
       "      <td>2552</td>\n",
       "      <td>-1.0</td>\n",
       "      <td>1</td>\n",
       "      <td>2013</td>\n",
       "      <td>5</td>\n",
       "    </tr>\n",
       "    <tr>\n",
       "      <th>3</th>\n",
       "      <td>2013-06</td>\n",
       "      <td>25</td>\n",
       "      <td>2554</td>\n",
       "      <td>1.0</td>\n",
       "      <td>1</td>\n",
       "      <td>2013</td>\n",
       "      <td>6</td>\n",
       "    </tr>\n",
       "  </tbody>\n",
       "</table>\n",
       "</div>"
      ],
      "text/plain": [
       "      date  shop_id  item_id  item_cnt_day  month  year  day\n",
       "4  2013-01       25     2555           1.0      1  2013   15\n",
       "0  2013-02       59    22154           1.0      1  2013    2\n",
       "1  2013-03       25     2552           1.0      1  2013    3\n",
       "2  2013-05       25     2552          -1.0      1  2013    5\n",
       "3  2013-06       25     2554           1.0      1  2013    6"
      ]
     },
     "execution_count": 133,
     "metadata": {},
     "output_type": "execute_result"
    }
   ],
   "source": [
    "train.head().sort_values(by = 'date')"
   ]
  },
  {
   "cell_type": "markdown",
   "id": "mechanical-conclusion",
   "metadata": {
    "execution": {
     "iopub.execute_input": "2021-12-08T06:18:00.773886Z",
     "iopub.status.busy": "2021-12-08T06:18:00.773351Z",
     "iopub.status.idle": "2021-12-08T06:18:01.266517Z",
     "shell.execute_reply": "2021-12-08T06:18:01.26535Z",
     "shell.execute_reply.started": "2021-12-08T06:18:00.773847Z"
    },
    "papermill": {
     "duration": 0.051282,
     "end_time": "2021-12-08T07:26:33.795566",
     "exception": false,
     "start_time": "2021-12-08T07:26:33.744284",
     "status": "completed"
    },
    "tags": []
   },
   "source": [
    "#### OUTLIERS check"
   ]
  },
  {
   "cell_type": "code",
   "execution_count": 134,
   "id": "skilled-prize",
   "metadata": {
    "execution": {
     "iopub.execute_input": "2021-12-08T07:26:33.906096Z",
     "iopub.status.busy": "2021-12-08T07:26:33.905204Z",
     "iopub.status.idle": "2021-12-08T07:26:34.413559Z",
     "shell.execute_reply": "2021-12-08T07:26:34.412990Z",
     "shell.execute_reply.started": "2021-12-08T07:03:51.005397Z"
    },
    "papermill": {
     "duration": 0.565541,
     "end_time": "2021-12-08T07:26:34.413767",
     "exception": false,
     "start_time": "2021-12-08T07:26:33.848226",
     "status": "completed"
    },
    "tags": []
   },
   "outputs": [
    {
     "data": {
      "text/plain": [
       "<AxesSubplot:>"
      ]
     },
     "execution_count": 134,
     "metadata": {},
     "output_type": "execute_result"
    },
    {
     "data": {
      "image/png": "[encoded data removed]",
      "text/plain": [
       "<Figure size 432x288 with 1 Axes>"
      ]
     },
     "metadata": {
      "needs_background": "light"
     },
     "output_type": "display_data"
    }
   ],
   "source": [
    "train.boxplot(column=[\"item_cnt_day\"])"
   ]
  },
  {
   "cell_type": "code",
   "execution_count": 135,
   "id": "junior-credits",
   "metadata": {
    "execution": {
     "iopub.execute_input": "2021-12-08T07:26:34.528602Z",
     "iopub.status.busy": "2021-12-08T07:26:34.527466Z",
     "iopub.status.idle": "2021-12-08T07:26:35.059113Z",
     "shell.execute_reply": "2021-12-08T07:26:35.058162Z",
     "shell.execute_reply.started": "2021-12-08T07:03:51.514036Z"
    },
    "papermill": {
     "duration": 0.591269,
     "end_time": "2021-12-08T07:26:35.059252",
     "exception": false,
     "start_time": "2021-12-08T07:26:34.467983",
     "status": "completed"
    },
    "tags": []
   },
   "outputs": [
    {
     "data": {
      "text/plain": [
       "<AxesSubplot:>"
      ]
     },
     "execution_count": 135,
     "metadata": {},
     "output_type": "execute_result"
    },
    {
     "data": {
      "image/png": "[encoded data removed]",
      "text/plain": [
       "<Figure size 432x288 with 1 Axes>"
      ]
     },
     "metadata": {
      "needs_background": "light"
     },
     "output_type": "display_data"
    }
   ],
   "source": [
    "# Remove the outliers\n",
    "\n",
    "train[\"item_cnt_day\"] = train[\"item_cnt_day\"].clip(-1,600)\n",
    "train.boxplot(column=[\"item_cnt_day\"])"
   ]
  },
  {
   "cell_type": "code",
   "execution_count": 136,
   "id": "numerical-humor",
   "metadata": {
    "execution": {
     "iopub.execute_input": "2021-12-08T07:26:35.220047Z",
     "iopub.status.busy": "2021-12-08T07:26:35.218978Z",
     "iopub.status.idle": "2021-12-08T07:26:36.701219Z",
     "shell.execute_reply": "2021-12-08T07:26:36.701813Z",
     "shell.execute_reply.started": "2021-12-08T07:03:52.066162Z"
    },
    "papermill": {
     "duration": 1.585386,
     "end_time": "2021-12-08T07:26:36.701988",
     "exception": false,
     "start_time": "2021-12-08T07:26:35.116602",
     "status": "completed"
    },
    "tags": []
   },
   "outputs": [
    {
     "data": {
      "text/html": [
       "<div>\n",
       "<style scoped>\n",
       "    .dataframe tbody tr th:only-of-type {\n",
       "        vertical-align: middle;\n",
       "    }\n",
       "\n",
       "    .dataframe tbody tr th {\n",
       "        vertical-align: top;\n",
       "    }\n",
       "\n",
       "    .dataframe thead th {\n",
       "        text-align: right;\n",
       "    }\n",
       "</style>\n",
       "<table border=\"1\" class=\"dataframe\">\n",
       "  <thead>\n",
       "    <tr style=\"text-align: right;\">\n",
       "      <th></th>\n",
       "      <th></th>\n",
       "      <th></th>\n",
       "      <th>item_cnt_day</th>\n",
       "      <th>month</th>\n",
       "      <th>year</th>\n",
       "      <th>day</th>\n",
       "    </tr>\n",
       "    <tr>\n",
       "      <th>date</th>\n",
       "      <th>shop_id</th>\n",
       "      <th>item_id</th>\n",
       "      <th></th>\n",
       "      <th></th>\n",
       "      <th></th>\n",
       "      <th></th>\n",
       "    </tr>\n",
       "  </thead>\n",
       "  <tbody>\n",
       "    <tr>\n",
       "      <th rowspan=\"5\" valign=\"top\">2013-01</th>\n",
       "      <th rowspan=\"5\" valign=\"top\">0</th>\n",
       "      <th>32</th>\n",
       "      <td>4.0</td>\n",
       "      <td>3</td>\n",
       "      <td>6039</td>\n",
       "      <td>77</td>\n",
       "    </tr>\n",
       "    <tr>\n",
       "      <th>33</th>\n",
       "      <td>2.0</td>\n",
       "      <td>2</td>\n",
       "      <td>4026</td>\n",
       "      <td>45</td>\n",
       "    </tr>\n",
       "    <tr>\n",
       "      <th>35</th>\n",
       "      <td>2.0</td>\n",
       "      <td>3</td>\n",
       "      <td>4026</td>\n",
       "      <td>32</td>\n",
       "    </tr>\n",
       "    <tr>\n",
       "      <th>43</th>\n",
       "      <td>1.0</td>\n",
       "      <td>1</td>\n",
       "      <td>2013</td>\n",
       "      <td>31</td>\n",
       "    </tr>\n",
       "    <tr>\n",
       "      <th>51</th>\n",
       "      <td>2.0</td>\n",
       "      <td>2</td>\n",
       "      <td>4026</td>\n",
       "      <td>44</td>\n",
       "    </tr>\n",
       "    <tr>\n",
       "      <th>...</th>\n",
       "      <th>...</th>\n",
       "      <th>...</th>\n",
       "      <td>...</td>\n",
       "      <td>...</td>\n",
       "      <td>...</td>\n",
       "      <td>...</td>\n",
       "    </tr>\n",
       "    <tr>\n",
       "      <th rowspan=\"5\" valign=\"top\">2015-12</th>\n",
       "      <th rowspan=\"5\" valign=\"top\">59</th>\n",
       "      <th>21421</th>\n",
       "      <td>1.0</td>\n",
       "      <td>5</td>\n",
       "      <td>2015</td>\n",
       "      <td>12</td>\n",
       "    </tr>\n",
       "    <tr>\n",
       "      <th>21669</th>\n",
       "      <td>1.0</td>\n",
       "      <td>1</td>\n",
       "      <td>2015</td>\n",
       "      <td>12</td>\n",
       "    </tr>\n",
       "    <tr>\n",
       "      <th>21872</th>\n",
       "      <td>1.0</td>\n",
       "      <td>6</td>\n",
       "      <td>2015</td>\n",
       "      <td>12</td>\n",
       "    </tr>\n",
       "    <tr>\n",
       "      <th>21968</th>\n",
       "      <td>-1.0</td>\n",
       "      <td>8</td>\n",
       "      <td>2015</td>\n",
       "      <td>12</td>\n",
       "    </tr>\n",
       "    <tr>\n",
       "      <th>22088</th>\n",
       "      <td>2.0</td>\n",
       "      <td>5</td>\n",
       "      <td>2015</td>\n",
       "      <td>12</td>\n",
       "    </tr>\n",
       "  </tbody>\n",
       "</table>\n",
       "<p>1799395 rows × 4 columns</p>\n",
       "</div>"
      ],
      "text/plain": [
       "                         item_cnt_day  month  year  day\n",
       "date    shop_id item_id                                \n",
       "2013-01 0       32                4.0      3  6039   77\n",
       "                33                2.0      2  4026   45\n",
       "                35                2.0      3  4026   32\n",
       "                43                1.0      1  2013   31\n",
       "                51                2.0      2  4026   44\n",
       "...                               ...    ...   ...  ...\n",
       "2015-12 59      21421             1.0      5  2015   12\n",
       "                21669             1.0      1  2015   12\n",
       "                21872             1.0      6  2015   12\n",
       "                21968            -1.0      8  2015   12\n",
       "                22088             2.0      5  2015   12\n",
       "\n",
       "[1799395 rows x 4 columns]"
      ]
     },
     "execution_count": 136,
     "metadata": {},
     "output_type": "execute_result"
    }
   ],
   "source": [
    "#create a new data frame grouping as per date , sho_id and item_id\n",
    "df = train.groupby(['date','shop_id','item_id']).sum()\n",
    "df"
   ]
  },
  {
   "cell_type": "code",
   "execution_count": 137,
   "id": "ranking-collaboration",
   "metadata": {
    "execution": {
     "iopub.execute_input": "2021-12-08T07:26:36.834055Z",
     "iopub.status.busy": "2021-12-08T07:26:36.832458Z",
     "iopub.status.idle": "2021-12-08T07:26:41.237230Z",
     "shell.execute_reply": "2021-12-08T07:26:41.237949Z",
     "shell.execute_reply.started": "2021-12-08T07:03:53.581799Z"
    },
    "papermill": {
     "duration": 4.47987,
     "end_time": "2021-12-08T07:26:41.238127",
     "exception": false,
     "start_time": "2021-12-08T07:26:36.758257",
     "status": "completed"
    },
    "tags": []
   },
   "outputs": [
    {
     "data": {
      "text/html": [
       "<div>\n",
       "<style scoped>\n",
       "    .dataframe tbody tr th:only-of-type {\n",
       "        vertical-align: middle;\n",
       "    }\n",
       "\n",
       "    .dataframe tbody tr th {\n",
       "        vertical-align: top;\n",
       "    }\n",
       "\n",
       "    .dataframe thead th {\n",
       "        text-align: right;\n",
       "    }\n",
       "</style>\n",
       "<table border=\"1\" class=\"dataframe\">\n",
       "  <thead>\n",
       "    <tr style=\"text-align: right;\">\n",
       "      <th>date</th>\n",
       "      <th>shop_id</th>\n",
       "      <th>item_id</th>\n",
       "      <th>2013-01</th>\n",
       "      <th>2013-02</th>\n",
       "      <th>2013-03</th>\n",
       "      <th>2013-04</th>\n",
       "      <th>2013-05</th>\n",
       "      <th>2013-06</th>\n",
       "      <th>2013-07</th>\n",
       "      <th>2013-08</th>\n",
       "      <th>...</th>\n",
       "      <th>2015-03</th>\n",
       "      <th>2015-04</th>\n",
       "      <th>2015-05</th>\n",
       "      <th>2015-06</th>\n",
       "      <th>2015-07</th>\n",
       "      <th>2015-08</th>\n",
       "      <th>2015-09</th>\n",
       "      <th>2015-10</th>\n",
       "      <th>2015-11</th>\n",
       "      <th>2015-12</th>\n",
       "    </tr>\n",
       "  </thead>\n",
       "  <tbody>\n",
       "    <tr>\n",
       "      <th>0</th>\n",
       "      <td>0</td>\n",
       "      <td>30</td>\n",
       "      <td>0.000000</td>\n",
       "      <td>3.444444</td>\n",
       "      <td>0.0</td>\n",
       "      <td>0.0</td>\n",
       "      <td>0.0</td>\n",
       "      <td>0.0</td>\n",
       "      <td>0.0</td>\n",
       "      <td>0.0</td>\n",
       "      <td>...</td>\n",
       "      <td>0.0</td>\n",
       "      <td>0.0</td>\n",
       "      <td>0.0</td>\n",
       "      <td>0.0</td>\n",
       "      <td>0.0</td>\n",
       "      <td>0.0</td>\n",
       "      <td>0.0</td>\n",
       "      <td>0.0</td>\n",
       "      <td>0.0</td>\n",
       "      <td>0.0</td>\n",
       "    </tr>\n",
       "    <tr>\n",
       "      <th>1</th>\n",
       "      <td>0</td>\n",
       "      <td>31</td>\n",
       "      <td>0.000000</td>\n",
       "      <td>1.571429</td>\n",
       "      <td>0.0</td>\n",
       "      <td>0.0</td>\n",
       "      <td>0.0</td>\n",
       "      <td>0.0</td>\n",
       "      <td>0.0</td>\n",
       "      <td>0.0</td>\n",
       "      <td>...</td>\n",
       "      <td>0.0</td>\n",
       "      <td>0.0</td>\n",
       "      <td>0.0</td>\n",
       "      <td>0.0</td>\n",
       "      <td>0.0</td>\n",
       "      <td>0.0</td>\n",
       "      <td>0.0</td>\n",
       "      <td>0.0</td>\n",
       "      <td>0.0</td>\n",
       "      <td>0.0</td>\n",
       "    </tr>\n",
       "    <tr>\n",
       "      <th>2</th>\n",
       "      <td>0</td>\n",
       "      <td>32</td>\n",
       "      <td>1.333333</td>\n",
       "      <td>1.500000</td>\n",
       "      <td>2.0</td>\n",
       "      <td>0.0</td>\n",
       "      <td>1.0</td>\n",
       "      <td>1.0</td>\n",
       "      <td>0.0</td>\n",
       "      <td>0.0</td>\n",
       "      <td>...</td>\n",
       "      <td>0.0</td>\n",
       "      <td>0.0</td>\n",
       "      <td>0.0</td>\n",
       "      <td>0.0</td>\n",
       "      <td>0.0</td>\n",
       "      <td>0.0</td>\n",
       "      <td>0.0</td>\n",
       "      <td>0.0</td>\n",
       "      <td>0.0</td>\n",
       "      <td>0.0</td>\n",
       "    </tr>\n",
       "    <tr>\n",
       "      <th>3</th>\n",
       "      <td>0</td>\n",
       "      <td>33</td>\n",
       "      <td>1.000000</td>\n",
       "      <td>1.000000</td>\n",
       "      <td>1.0</td>\n",
       "      <td>0.0</td>\n",
       "      <td>0.0</td>\n",
       "      <td>0.0</td>\n",
       "      <td>1.0</td>\n",
       "      <td>0.0</td>\n",
       "      <td>...</td>\n",
       "      <td>0.0</td>\n",
       "      <td>0.0</td>\n",
       "      <td>0.0</td>\n",
       "      <td>0.0</td>\n",
       "      <td>0.0</td>\n",
       "      <td>0.0</td>\n",
       "      <td>0.0</td>\n",
       "      <td>0.0</td>\n",
       "      <td>0.0</td>\n",
       "      <td>0.0</td>\n",
       "    </tr>\n",
       "    <tr>\n",
       "      <th>4</th>\n",
       "      <td>0</td>\n",
       "      <td>35</td>\n",
       "      <td>1.000000</td>\n",
       "      <td>1.200000</td>\n",
       "      <td>0.0</td>\n",
       "      <td>1.0</td>\n",
       "      <td>0.0</td>\n",
       "      <td>2.0</td>\n",
       "      <td>0.0</td>\n",
       "      <td>2.0</td>\n",
       "      <td>...</td>\n",
       "      <td>0.0</td>\n",
       "      <td>0.0</td>\n",
       "      <td>0.0</td>\n",
       "      <td>0.0</td>\n",
       "      <td>0.0</td>\n",
       "      <td>0.0</td>\n",
       "      <td>0.0</td>\n",
       "      <td>0.0</td>\n",
       "      <td>0.0</td>\n",
       "      <td>0.0</td>\n",
       "    </tr>\n",
       "  </tbody>\n",
       "</table>\n",
       "<p>5 rows × 38 columns</p>\n",
       "</div>"
      ],
      "text/plain": [
       "date  shop_id  item_id   2013-01   2013-02  2013-03  2013-04  2013-05  \\\n",
       "0           0       30  0.000000  3.444444      0.0      0.0      0.0   \n",
       "1           0       31  0.000000  1.571429      0.0      0.0      0.0   \n",
       "2           0       32  1.333333  1.500000      2.0      0.0      1.0   \n",
       "3           0       33  1.000000  1.000000      1.0      0.0      0.0   \n",
       "4           0       35  1.000000  1.200000      0.0      1.0      0.0   \n",
       "\n",
       "date  2013-06  2013-07  2013-08  ...  2015-03  2015-04  2015-05  2015-06  \\\n",
       "0         0.0      0.0      0.0  ...      0.0      0.0      0.0      0.0   \n",
       "1         0.0      0.0      0.0  ...      0.0      0.0      0.0      0.0   \n",
       "2         1.0      0.0      0.0  ...      0.0      0.0      0.0      0.0   \n",
       "3         0.0      1.0      0.0  ...      0.0      0.0      0.0      0.0   \n",
       "4         2.0      0.0      2.0  ...      0.0      0.0      0.0      0.0   \n",
       "\n",
       "date  2015-07  2015-08  2015-09  2015-10  2015-11  2015-12  \n",
       "0         0.0      0.0      0.0      0.0      0.0      0.0  \n",
       "1         0.0      0.0      0.0      0.0      0.0      0.0  \n",
       "2         0.0      0.0      0.0      0.0      0.0      0.0  \n",
       "3         0.0      0.0      0.0      0.0      0.0      0.0  \n",
       "4         0.0      0.0      0.0      0.0      0.0      0.0  \n",
       "\n",
       "[5 rows x 38 columns]"
      ]
     },
     "execution_count": 137,
     "metadata": {},
     "output_type": "execute_result"
    }
   ],
   "source": [
    "df = train.pivot_table(index=['shop_id','item_id'], columns='date', values='item_cnt_day', fill_value=0)\n",
    "df.reset_index(inplace=True)\n",
    "df.head()"
   ]
  },
  {
   "cell_type": "code",
   "execution_count": 138,
   "id": "controversial-provision",
   "metadata": {
    "execution": {
     "iopub.execute_input": "2021-12-08T07:26:41.361300Z",
     "iopub.status.busy": "2021-12-08T07:26:41.359840Z",
     "iopub.status.idle": "2021-12-08T07:26:41.703995Z",
     "shell.execute_reply": "2021-12-08T07:26:41.703331Z",
     "shell.execute_reply.started": "2021-12-08T07:03:57.469804Z"
    },
    "papermill": {
     "duration": 0.408853,
     "end_time": "2021-12-08T07:26:41.704144",
     "exception": false,
     "start_time": "2021-12-08T07:26:41.295291",
     "status": "completed"
    },
    "tags": []
   },
   "outputs": [
    {
     "data": {
      "text/html": [
       "<div>\n",
       "<style scoped>\n",
       "    .dataframe tbody tr th:only-of-type {\n",
       "        vertical-align: middle;\n",
       "    }\n",
       "\n",
       "    .dataframe tbody tr th {\n",
       "        vertical-align: top;\n",
       "    }\n",
       "\n",
       "    .dataframe thead th {\n",
       "        text-align: right;\n",
       "    }\n",
       "</style>\n",
       "<table border=\"1\" class=\"dataframe\">\n",
       "  <thead>\n",
       "    <tr style=\"text-align: right;\">\n",
       "      <th></th>\n",
       "      <th>shop_id</th>\n",
       "      <th>item_id</th>\n",
       "      <th>2013-02</th>\n",
       "      <th>2013-03</th>\n",
       "      <th>2013-04</th>\n",
       "      <th>2013-05</th>\n",
       "      <th>2013-06</th>\n",
       "      <th>2013-07</th>\n",
       "      <th>2013-08</th>\n",
       "      <th>2013-09</th>\n",
       "      <th>...</th>\n",
       "      <th>2015-03</th>\n",
       "      <th>2015-04</th>\n",
       "      <th>2015-05</th>\n",
       "      <th>2015-06</th>\n",
       "      <th>2015-07</th>\n",
       "      <th>2015-08</th>\n",
       "      <th>2015-09</th>\n",
       "      <th>2015-10</th>\n",
       "      <th>2015-11</th>\n",
       "      <th>2015-12</th>\n",
       "    </tr>\n",
       "  </thead>\n",
       "  <tbody>\n",
       "    <tr>\n",
       "      <th>0</th>\n",
       "      <td>5</td>\n",
       "      <td>5037</td>\n",
       "      <td>0.0</td>\n",
       "      <td>0.0</td>\n",
       "      <td>0.0</td>\n",
       "      <td>0.0</td>\n",
       "      <td>0.0</td>\n",
       "      <td>0.0</td>\n",
       "      <td>0.0</td>\n",
       "      <td>0.0</td>\n",
       "      <td>...</td>\n",
       "      <td>0.0</td>\n",
       "      <td>0.0</td>\n",
       "      <td>1.0</td>\n",
       "      <td>1.0</td>\n",
       "      <td>1.0</td>\n",
       "      <td>1.0</td>\n",
       "      <td>0.0</td>\n",
       "      <td>0.0</td>\n",
       "      <td>0.0</td>\n",
       "      <td>0.0</td>\n",
       "    </tr>\n",
       "    <tr>\n",
       "      <th>1</th>\n",
       "      <td>5</td>\n",
       "      <td>5320</td>\n",
       "      <td>0.0</td>\n",
       "      <td>0.0</td>\n",
       "      <td>0.0</td>\n",
       "      <td>0.0</td>\n",
       "      <td>0.0</td>\n",
       "      <td>0.0</td>\n",
       "      <td>0.0</td>\n",
       "      <td>0.0</td>\n",
       "      <td>...</td>\n",
       "      <td>0.0</td>\n",
       "      <td>0.0</td>\n",
       "      <td>0.0</td>\n",
       "      <td>0.0</td>\n",
       "      <td>0.0</td>\n",
       "      <td>0.0</td>\n",
       "      <td>0.0</td>\n",
       "      <td>0.0</td>\n",
       "      <td>0.0</td>\n",
       "      <td>0.0</td>\n",
       "    </tr>\n",
       "    <tr>\n",
       "      <th>2</th>\n",
       "      <td>5</td>\n",
       "      <td>5233</td>\n",
       "      <td>0.0</td>\n",
       "      <td>0.0</td>\n",
       "      <td>0.0</td>\n",
       "      <td>0.0</td>\n",
       "      <td>0.0</td>\n",
       "      <td>0.0</td>\n",
       "      <td>0.0</td>\n",
       "      <td>0.0</td>\n",
       "      <td>...</td>\n",
       "      <td>0.0</td>\n",
       "      <td>0.0</td>\n",
       "      <td>1.5</td>\n",
       "      <td>1.0</td>\n",
       "      <td>0.0</td>\n",
       "      <td>1.0</td>\n",
       "      <td>1.0</td>\n",
       "      <td>0.0</td>\n",
       "      <td>0.0</td>\n",
       "      <td>0.0</td>\n",
       "    </tr>\n",
       "    <tr>\n",
       "      <th>3</th>\n",
       "      <td>5</td>\n",
       "      <td>5232</td>\n",
       "      <td>0.0</td>\n",
       "      <td>0.0</td>\n",
       "      <td>0.0</td>\n",
       "      <td>0.0</td>\n",
       "      <td>0.0</td>\n",
       "      <td>0.0</td>\n",
       "      <td>0.0</td>\n",
       "      <td>0.0</td>\n",
       "      <td>...</td>\n",
       "      <td>0.0</td>\n",
       "      <td>0.0</td>\n",
       "      <td>0.0</td>\n",
       "      <td>0.0</td>\n",
       "      <td>0.0</td>\n",
       "      <td>1.0</td>\n",
       "      <td>0.0</td>\n",
       "      <td>0.0</td>\n",
       "      <td>0.0</td>\n",
       "      <td>0.0</td>\n",
       "    </tr>\n",
       "    <tr>\n",
       "      <th>4</th>\n",
       "      <td>5</td>\n",
       "      <td>5268</td>\n",
       "      <td>0.0</td>\n",
       "      <td>0.0</td>\n",
       "      <td>0.0</td>\n",
       "      <td>0.0</td>\n",
       "      <td>0.0</td>\n",
       "      <td>0.0</td>\n",
       "      <td>0.0</td>\n",
       "      <td>0.0</td>\n",
       "      <td>...</td>\n",
       "      <td>0.0</td>\n",
       "      <td>0.0</td>\n",
       "      <td>0.0</td>\n",
       "      <td>0.0</td>\n",
       "      <td>0.0</td>\n",
       "      <td>0.0</td>\n",
       "      <td>0.0</td>\n",
       "      <td>0.0</td>\n",
       "      <td>0.0</td>\n",
       "      <td>0.0</td>\n",
       "    </tr>\n",
       "  </tbody>\n",
       "</table>\n",
       "<p>5 rows × 37 columns</p>\n",
       "</div>"
      ],
      "text/plain": [
       "   shop_id  item_id  2013-02  2013-03  2013-04  2013-05  2013-06  2013-07  \\\n",
       "0        5     5037      0.0      0.0      0.0      0.0      0.0      0.0   \n",
       "1        5     5320      0.0      0.0      0.0      0.0      0.0      0.0   \n",
       "2        5     5233      0.0      0.0      0.0      0.0      0.0      0.0   \n",
       "3        5     5232      0.0      0.0      0.0      0.0      0.0      0.0   \n",
       "4        5     5268      0.0      0.0      0.0      0.0      0.0      0.0   \n",
       "\n",
       "   2013-08  2013-09  ...  2015-03  2015-04  2015-05  2015-06  2015-07  \\\n",
       "0      0.0      0.0  ...      0.0      0.0      1.0      1.0      1.0   \n",
       "1      0.0      0.0  ...      0.0      0.0      0.0      0.0      0.0   \n",
       "2      0.0      0.0  ...      0.0      0.0      1.5      1.0      0.0   \n",
       "3      0.0      0.0  ...      0.0      0.0      0.0      0.0      0.0   \n",
       "4      0.0      0.0  ...      0.0      0.0      0.0      0.0      0.0   \n",
       "\n",
       "   2015-08  2015-09  2015-10  2015-11  2015-12  \n",
       "0      1.0      0.0      0.0      0.0      0.0  \n",
       "1      0.0      0.0      0.0      0.0      0.0  \n",
       "2      1.0      1.0      0.0      0.0      0.0  \n",
       "3      1.0      0.0      0.0      0.0      0.0  \n",
       "4      0.0      0.0      0.0      0.0      0.0  \n",
       "\n",
       "[5 rows x 37 columns]"
      ]
     },
     "execution_count": 138,
     "metadata": {},
     "output_type": "execute_result"
    }
   ],
   "source": [
    "test_df = pd.merge(test, df, on=['shop_id','item_id'], how='left')\n",
    "test_df.drop(['ID', '2013-01'], axis=1, inplace=True)\n",
    "test_df = test_df.fillna(0)\n",
    "test_df.head()"
   ]
  },
  {
   "cell_type": "markdown",
   "id": "individual-emphasis",
   "metadata": {
    "papermill": {
     "duration": 0.056186,
     "end_time": "2021-12-08T07:26:41.818374",
     "exception": false,
     "start_time": "2021-12-08T07:26:41.762188",
     "status": "completed"
    },
    "tags": []
   },
   "source": [
    "## MODEL CHECK AND SELCTION"
   ]
  },
  {
   "cell_type": "code",
   "execution_count": 139,
   "id": "invisible-relation",
   "metadata": {
    "execution": {
     "iopub.execute_input": "2021-12-08T07:26:41.938989Z",
     "iopub.status.busy": "2021-12-08T07:26:41.938137Z",
     "iopub.status.idle": "2021-12-08T07:26:42.308694Z",
     "shell.execute_reply": "2021-12-08T07:26:42.307703Z",
     "shell.execute_reply.started": "2021-12-08T07:03:57.817169Z"
    },
    "papermill": {
     "duration": 0.433331,
     "end_time": "2021-12-08T07:26:42.308846",
     "exception": false,
     "start_time": "2021-12-08T07:26:41.875515",
     "status": "completed"
    },
    "tags": []
   },
   "outputs": [],
   "source": [
    "from sklearn.model_selection import train_test_split\n",
    "\n",
    "from sklearn.linear_model import LinearRegression, Ridge, Lasso\n",
    "from sklearn.ensemble import RandomForestRegressor\n",
    "from sklearn.ensemble import GradientBoostingRegressor\n",
    "from xgboost import XGBRegressor\n",
    "\n",
    "from sklearn.metrics import mean_squared_error\n",
    "from sklearn.pipeline import Pipeline"
   ]
  },
  {
   "cell_type": "code",
   "execution_count": 140,
   "id": "prerequisite-writer",
   "metadata": {
    "execution": {
     "iopub.execute_input": "2021-12-08T07:26:42.434049Z",
     "iopub.status.busy": "2021-12-08T07:26:42.432635Z",
     "iopub.status.idle": "2021-12-08T07:26:42.485752Z",
     "shell.execute_reply": "2021-12-08T07:26:42.485113Z",
     "shell.execute_reply.started": "2021-12-08T07:03:57.919189Z"
    },
    "papermill": {
     "duration": 0.118915,
     "end_time": "2021-12-08T07:26:42.485902",
     "exception": false,
     "start_time": "2021-12-08T07:26:42.366987",
     "status": "completed"
    },
    "tags": []
   },
   "outputs": [],
   "source": [
    "# Lets devide the data into Train and validation sets\n",
    "Y = df['2015-10'].values\n",
    "X = df.drop(['2015-10'], axis = 1)\n",
    "test_full = test_df"
   ]
  },
  {
   "cell_type": "code",
   "execution_count": 141,
   "id": "neither-wound",
   "metadata": {
    "execution": {
     "iopub.execute_input": "2021-12-08T07:26:42.606823Z",
     "iopub.status.busy": "2021-12-08T07:26:42.605771Z",
     "iopub.status.idle": "2021-12-08T07:26:42.757459Z",
     "shell.execute_reply": "2021-12-08T07:26:42.756122Z",
     "shell.execute_reply.started": "2021-12-08T07:03:57.975860Z"
    },
    "papermill": {
     "duration": 0.214062,
     "end_time": "2021-12-08T07:26:42.757616",
     "exception": false,
     "start_time": "2021-12-08T07:26:42.543554",
     "status": "completed"
    },
    "tags": []
   },
   "outputs": [],
   "source": [
    "X_train, X_test, y_train, y_test = train_test_split(X, Y, test_size = 0.2, random_state = 42)"
   ]
  },
  {
   "cell_type": "code",
   "execution_count": 142,
   "id": "advanced-owner",
   "metadata": {
    "execution": {
     "iopub.execute_input": "2021-12-08T07:26:42.880030Z",
     "iopub.status.busy": "2021-12-08T07:26:42.879206Z",
     "iopub.status.idle": "2021-12-08T07:26:42.883405Z",
     "shell.execute_reply": "2021-12-08T07:26:42.883974Z",
     "shell.execute_reply.started": "2021-12-08T07:03:58.134932Z"
    },
    "papermill": {
     "duration": 0.069523,
     "end_time": "2021-12-08T07:26:42.884212",
     "exception": false,
     "start_time": "2021-12-08T07:26:42.814689",
     "status": "completed"
    },
    "tags": []
   },
   "outputs": [
    {
     "name": "stdout",
     "output_type": "stream",
     "text": [
      "(339299, 37)\n",
      "(339299,)\n",
      "(84825, 37)\n",
      "(84825,)\n"
     ]
    }
   ],
   "source": [
    "# Check Shapes for the devided for train and test columns should be same\n",
    "print(X_train.shape)\n",
    "print(y_train.shape)\n",
    "print(X_test.shape)\n",
    "print(y_test.shape)"
   ]
  },
  {
   "cell_type": "markdown",
   "id": "pacific-density",
   "metadata": {
    "papermill": {
     "duration": 0.061433,
     "end_time": "2021-12-08T07:26:43.003056",
     "exception": false,
     "start_time": "2021-12-08T07:26:42.941623",
     "status": "completed"
    },
    "tags": []
   },
   "source": [
    "#### **1st Model is - Linear Regression**"
   ]
  },
  {
   "cell_type": "code",
   "execution_count": 143,
   "id": "descending-focus",
   "metadata": {
    "execution": {
     "iopub.execute_input": "2021-12-08T07:26:43.128860Z",
     "iopub.status.busy": "2021-12-08T07:26:43.127583Z",
     "iopub.status.idle": "2021-12-08T07:26:44.080020Z",
     "shell.execute_reply": "2021-12-08T07:26:44.084652Z",
     "shell.execute_reply.started": "2021-12-08T07:03:58.146809Z"
    },
    "papermill": {
     "duration": 1.023956,
     "end_time": "2021-12-08T07:26:44.084984",
     "exception": false,
     "start_time": "2021-12-08T07:26:43.061028",
     "status": "completed"
    },
    "tags": []
   },
   "outputs": [
    {
     "name": "stdout",
     "output_type": "stream",
     "text": [
      "MSE TRAINING: 0.15862621680004388\n",
      "MSE TESTING: 0.4304186408873432\n",
      "TRAINING SCORE: 0.8337276029564844\n"
     ]
    }
   ],
   "source": [
    "lr = LinearRegression()\n",
    "lr.fit(X_train, y_train)\n",
    "print('MSE TRAINING:', mean_squared_error(y_train, lr.predict(X_train)))\n",
    "print('MSE TESTING:', mean_squared_error(y_test, lr.predict(X_test)))\n",
    "print('TRAINING SCORE:', lr.score(X_train,y_train))"
   ]
  },
  {
   "cell_type": "code",
   "execution_count": 144,
   "id": "c32b6c92",
   "metadata": {},
   "outputs": [
    {
     "data": {
      "image/png": "[encoded data removed]",
      "text/plain": [
       "<Figure size 864x360 with 1 Axes>"
      ]
     },
     "metadata": {
      "needs_background": "light"
     },
     "output_type": "display_data"
    }
   ],
   "source": [
    "plt.figure(figsize=(12,5))\n",
    "\n",
    "plt.scatter(lr.predict(X_test),y_test,)\n",
    "plt.xlabel('predicted Price')\n",
    "plt.ylabel('Ground-Truth')\n",
    "\n",
    "plt.plot([-1,120],[-1,120], color = 'red')\n",
    "plt.tight_layout()"
   ]
  },
  {
   "cell_type": "markdown",
   "id": "a66e3a73",
   "metadata": {},
   "source": [
    "#### To add regularization Lasso- check hypertuning parameter alpha value using GridSearchCV"
   ]
  },
  {
   "cell_type": "code",
   "execution_count": 145,
   "id": "0fabc19b",
   "metadata": {},
   "outputs": [],
   "source": [
    "from sklearn.model_selection import GridSearchCV\n",
    "# find optimal alpha with grid search\n",
    "alpha = [0.001, 0.01, 0.1, 1, 10, 100, 1000]\n",
    "param_grid = dict(alpha=alpha)\n",
    "#grid = GridSearchCV(estimator=Lasso(), param_grid=param_grid, scoring='r2', verbose=0, )\n",
    "#predictionG = grid.fit(X_train, y_train)\n",
    "#print('Best Score: ', predictionG.best_score_)\n",
    "#print('Best Params: ', predictionG.best_params_)"
   ]
  },
  {
   "cell_type": "markdown",
   "id": "demanding-bronze",
   "metadata": {
    "papermill": {
     "duration": 0.101318,
     "end_time": "2021-12-08T07:26:44.338727",
     "exception": false,
     "start_time": "2021-12-08T07:26:44.237409",
     "status": "completed"
    },
    "tags": []
   },
   "source": [
    "#### 2nd We are trying Lasso regularization model on above selected parameters"
   ]
  },
  {
   "cell_type": "code",
   "execution_count": 146,
   "id": "disciplinary-founder",
   "metadata": {
    "execution": {
     "iopub.execute_input": "2021-12-08T07:26:44.547889Z",
     "iopub.status.busy": "2021-12-08T07:26:44.546787Z",
     "iopub.status.idle": "2021-12-08T07:26:45.028701Z",
     "shell.execute_reply": "2021-12-08T07:26:45.026766Z",
     "shell.execute_reply.started": "2021-12-08T07:03:59.382576Z"
    },
    "papermill": {
     "duration": 0.591216,
     "end_time": "2021-12-08T07:26:45.028982",
     "exception": false,
     "start_time": "2021-12-08T07:26:44.437766",
     "status": "completed"
    },
    "tags": []
   },
   "outputs": [
    {
     "name": "stdout",
     "output_type": "stream",
     "text": [
      "MSE TRAINING: 0.15871975642015776\n",
      "MSE TESTING: 0.430086039936366\n",
      "TRAINING SCORE: 0.8336295544928154\n"
     ]
    }
   ],
   "source": [
    "lso = Lasso(alpha=0.001)\n",
    "lso.fit(X_train, y_train)\n",
    "print('MSE TRAINING:', mean_squared_error(y_train, lso.predict(X_train)))\n",
    "print('MSE TESTING:', mean_squared_error(y_test, lso.predict(X_test)))\n",
    "print('TRAINING SCORE:', lso.score(X_train,y_train))"
   ]
  },
  {
   "cell_type": "markdown",
   "id": "1f109683",
   "metadata": {},
   "source": [
    "#### As we saw a great variance in results for Lasso lets check same parameters search for RIDGE"
   ]
  },
  {
   "cell_type": "code",
   "execution_count": 147,
   "id": "76d062d4",
   "metadata": {},
   "outputs": [],
   "source": [
    "# find optimal alpha with grid search\n",
    "\n",
    "#grid = GridSearchCV(estimator=Ridge(), param_grid=param_grid, scoring='r2', verbose=0, )\n",
    "#predictionG = grid.fit(X_train, y_train)\n",
    "#print('Score: ', predictionG.best_score_)\n",
    "#print('Parameters: ', predictionG.best_params_)"
   ]
  },
  {
   "cell_type": "markdown",
   "id": "alpha-middle",
   "metadata": {
    "papermill": {
     "duration": 0.058605,
     "end_time": "2021-12-08T07:26:45.206618",
     "exception": false,
     "start_time": "2021-12-08T07:26:45.148013",
     "status": "completed"
    },
    "tags": []
   },
   "source": [
    "#### 3rd We are trying Ridge regularization model on above selected parameters"
   ]
  },
  {
   "cell_type": "code",
   "execution_count": 148,
   "id": "broken-butterfly",
   "metadata": {
    "execution": {
     "iopub.execute_input": "2021-12-08T07:26:45.333311Z",
     "iopub.status.busy": "2021-12-08T07:26:45.332025Z",
     "iopub.status.idle": "2021-12-08T07:26:45.777967Z",
     "shell.execute_reply": "2021-12-08T07:26:45.778912Z",
     "shell.execute_reply.started": "2021-12-08T07:03:59.898681Z"
    },
    "papermill": {
     "duration": 0.514292,
     "end_time": "2021-12-08T07:26:45.779213",
     "exception": false,
     "start_time": "2021-12-08T07:26:45.264921",
     "status": "completed"
    },
    "tags": []
   },
   "outputs": [
    {
     "name": "stdout",
     "output_type": "stream",
     "text": [
      "MSE TRAINING: 0.15864015838687037\n",
      "MSE TESTING: 0.43101063834673764\n",
      "TRAINING SCORE: 0.8337129893503163\n"
     ]
    }
   ],
   "source": [
    "ridge = Ridge(alpha=1000)\n",
    "ridge.fit(X_train, y_train)\n",
    "print('MSE TRAINING:', mean_squared_error(y_train, ridge.predict(X_train)))\n",
    "print('MSE TESTING:', mean_squared_error(y_test, ridge.predict(X_test)))\n",
    "print('TRAINING SCORE:', ridge.score(X_train,y_train))"
   ]
  },
  {
   "cell_type": "markdown",
   "id": "upper-relay",
   "metadata": {
    "papermill": {
     "duration": 0.057949,
     "end_time": "2021-12-08T07:26:45.947263",
     "exception": false,
     "start_time": "2021-12-08T07:26:45.889314",
     "status": "completed"
    },
    "tags": []
   },
   "source": [
    "#### 4th we are trying Random Forest"
   ]
  },
  {
   "cell_type": "code",
   "execution_count": 149,
   "id": "qualified-notebook",
   "metadata": {
    "execution": {
     "iopub.execute_input": "2021-12-08T07:26:46.075744Z",
     "iopub.status.busy": "2021-12-08T07:26:46.074357Z",
     "iopub.status.idle": "2021-12-08T07:31:56.254652Z",
     "shell.execute_reply": "2021-12-08T07:31:56.255557Z",
     "shell.execute_reply.started": "2021-12-08T07:04:00.341609Z"
    },
    "papermill": {
     "duration": 310.249627,
     "end_time": "2021-12-08T07:31:56.255847",
     "exception": false,
     "start_time": "2021-12-08T07:26:46.006220",
     "status": "completed"
    },
    "tags": []
   },
   "outputs": [
    {
     "name": "stdout",
     "output_type": "stream",
     "text": [
      "MSE TRAINING: 0.09674319935442488\n",
      "MSE TESTING: 0.36715945316089116\n",
      "TRAINING SCORE: 0.8985935365615145\n"
     ]
    }
   ],
   "source": [
    "forestR = RandomForestRegressor(n_estimators = 102)\n",
    "forestR.fit(X_train, y_train)\n",
    "print('MSE TRAINING:', mean_squared_error(y_train, forestR.predict(X_train)))\n",
    "print('MSE TESTING:', mean_squared_error(y_test, forestR.predict(X_test)))\n",
    "print('TRAINING SCORE:', forestR.score(X_train,y_train))"
   ]
  },
  {
   "cell_type": "markdown",
   "id": "rental-little",
   "metadata": {
    "papermill": {
     "duration": 0.058259,
     "end_time": "2021-12-08T07:31:56.374356",
     "exception": false,
     "start_time": "2021-12-08T07:31:56.316097",
     "status": "completed"
    },
    "tags": []
   },
   "source": [
    "#### 5th is GradientBoostingRegressor"
   ]
  },
  {
   "cell_type": "code",
   "execution_count": 150,
   "id": "exposed-invalid",
   "metadata": {
    "execution": {
     "iopub.execute_input": "2021-12-08T07:31:56.502385Z",
     "iopub.status.busy": "2021-12-08T07:31:56.501137Z",
     "iopub.status.idle": "2021-12-08T07:32:45.947801Z",
     "shell.execute_reply": "2021-12-08T07:32:45.949058Z",
     "shell.execute_reply.started": "2021-12-08T07:09:06.470555Z"
    },
    "papermill": {
     "duration": 49.516474,
     "end_time": "2021-12-08T07:32:45.949297",
     "exception": false,
     "start_time": "2021-12-08T07:31:56.432823",
     "status": "completed"
    },
    "tags": []
   },
   "outputs": [
    {
     "name": "stdout",
     "output_type": "stream",
     "text": [
      "Train set mse: 0.09196198804678613\n",
      "Test set mse: 0.3440590262088181\n",
      "Train set score: 0.9036052142080587\n"
     ]
    }
   ],
   "source": [
    "grad_boost = GradientBoostingRegressor(learning_rate = 0.1, n_estimators = 100, random_state = 42)\n",
    "grad_boost.fit(X_train, y_train)\n",
    "print('Train set mse:', mean_squared_error(y_train, grad_boost.predict(X_train)))\n",
    "print('Test set mse:', mean_squared_error(y_test, grad_boost.predict(X_test)))\n",
    "print('Train set score:', grad_boost.score(X_train,y_train))"
   ]
  },
  {
   "cell_type": "markdown",
   "id": "altered-climb",
   "metadata": {
    "papermill": {
     "duration": 0.096756,
     "end_time": "2021-12-08T07:32:46.150027",
     "exception": false,
     "start_time": "2021-12-08T07:32:46.053271",
     "status": "completed"
    },
    "tags": []
   },
   "source": [
    "### 6th is XGB"
   ]
  },
  {
   "cell_type": "code",
   "execution_count": 151,
   "id": "steady-estate",
   "metadata": {
    "execution": {
     "iopub.execute_input": "2021-12-08T07:32:46.333828Z",
     "iopub.status.busy": "2021-12-08T07:32:46.332419Z",
     "iopub.status.idle": "2021-12-08T07:33:41.291175Z",
     "shell.execute_reply": "2021-12-08T07:33:41.291684Z",
     "shell.execute_reply.started": "2021-12-08T07:09:55.672849Z"
    },
    "papermill": {
     "duration": 55.043938,
     "end_time": "2021-12-08T07:33:41.291865",
     "exception": false,
     "start_time": "2021-12-08T07:32:46.247927",
     "status": "completed"
    },
    "tags": []
   },
   "outputs": [
    {
     "name": "stdout",
     "output_type": "stream",
     "text": [
      "Train set mse: 0.07728158721645524\n",
      "Test set mse: 0.39782209195715584\n",
      "Train set score: 0.9189932470620205\n"
     ]
    }
   ],
   "source": [
    "xgb = XGBRegressor().fit(X_train, y_train)\n",
    "print('Train set mse:', mean_squared_error(y_train, xgb.predict(X_train)))\n",
    "print('Test set mse:', mean_squared_error(y_test, xgb.predict(X_test)))\n",
    "print('Train set score:', xgb.score(X_train,y_train))"
   ]
  },
  {
   "cell_type": "code",
   "execution_count": 152,
   "id": "ignored-county",
   "metadata": {
    "execution": {
     "iopub.execute_input": "2021-12-08T07:33:41.418998Z",
     "iopub.status.busy": "2021-12-08T07:33:41.417779Z",
     "iopub.status.idle": "2021-12-08T07:33:42.031596Z",
     "shell.execute_reply": "2021-12-08T07:33:42.030596Z",
     "shell.execute_reply.started": "2021-12-08T07:10:50.452862Z"
    },
    "papermill": {
     "duration": 0.679064,
     "end_time": "2021-12-08T07:33:42.031825",
     "exception": false,
     "start_time": "2021-12-08T07:33:41.352761",
     "status": "completed"
    },
    "tags": []
   },
   "outputs": [],
   "source": [
    "#prediction = xgb.predict(test_full)"
   ]
  },
  {
   "cell_type": "code",
   "execution_count": 153,
   "id": "heated-teach",
   "metadata": {
    "execution": {
     "iopub.execute_input": "2021-12-08T07:33:42.973085Z",
     "iopub.status.busy": "2021-12-08T07:33:42.972048Z",
     "iopub.status.idle": "2021-12-08T07:33:42.976169Z",
     "shell.execute_reply": "2021-12-08T07:33:42.975327Z",
     "shell.execute_reply.started": "2021-12-08T07:10:51.052602Z"
    },
    "papermill": {
     "duration": 0.790343,
     "end_time": "2021-12-08T07:33:42.976312",
     "exception": false,
     "start_time": "2021-12-08T07:33:42.185969",
     "status": "completed"
    },
    "tags": []
   },
   "outputs": [],
   "source": [
    "#prediction = list(map(round, prediction))"
   ]
  },
  {
   "cell_type": "code",
   "execution_count": 154,
   "id": "automotive-hollow",
   "metadata": {
    "execution": {
     "iopub.execute_input": "2021-12-08T07:33:43.307717Z",
     "iopub.status.busy": "2021-12-08T07:33:43.306678Z",
     "iopub.status.idle": "2021-12-08T07:33:43.939232Z",
     "shell.execute_reply": "2021-12-08T07:33:43.939791Z",
     "shell.execute_reply.started": "2021-12-08T07:10:51.619510Z"
    },
    "papermill": {
     "duration": 0.702957,
     "end_time": "2021-12-08T07:33:43.939959",
     "exception": false,
     "start_time": "2021-12-08T07:33:43.237002",
     "status": "completed"
    },
    "tags": []
   },
   "outputs": [],
   "source": [
    "#sample_sub['item_cnt_month'] = prediction\n",
    "#sample_sub.to_csv('prediction2.csv', index=False)\n",
    "#sample_sub.head()"
   ]
  },
  {
   "cell_type": "code",
   "execution_count": 155,
   "id": "mediterranean-saint",
   "metadata": {
    "execution": {
     "iopub.execute_input": "2021-12-08T07:33:44.069808Z",
     "iopub.status.busy": "2021-12-08T07:33:44.068861Z",
     "iopub.status.idle": "2021-12-08T07:33:44.076613Z",
     "shell.execute_reply": "2021-12-08T07:33:44.075949Z",
     "shell.execute_reply.started": "2021-12-08T07:10:52.263737Z"
    },
    "papermill": {
     "duration": 0.074373,
     "end_time": "2021-12-08T07:33:44.076761",
     "exception": false,
     "start_time": "2021-12-08T07:33:44.002388",
     "status": "completed"
    },
    "tags": []
   },
   "outputs": [],
   "source": [
    "#sample_sub['item_cnt_month'].unique()"
   ]
  }
 ],
 "metadata": {
  "kernelspec": {
   "display_name": "Python 3",
   "language": "python",
   "name": "python3"
  },
  "language_info": {
   "codemirror_mode": {
    "name": "ipython",
    "version": 3
   },
   "file_extension": ".py",
   "mimetype": "text/x-python",
   "name": "python",
   "nbconvert_exporter": "python",
   "pygments_lexer": "ipython3",
   "version": "3.8.10"
  },
  "papermill": {
   "default_parameters": {},
   "duration": 487.038352,
   "end_time": "2021-12-08T07:33:46.257490",
   "environment_variables": {},
   "exception": null,
   "input_path": "__notebook__.ipynb",
   "output_path": "__notebook__.ipynb",
   "parameters": {},
   "start_time": "2021-12-08T07:25:39.219138",
   "version": "2.3.3"
  }
 },
 "nbformat": 4,
 "nbformat_minor": 5
}
